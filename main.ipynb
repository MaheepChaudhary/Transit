{
 "cells": [
  {
   "cell_type": "code",
   "execution_count": 1,
   "metadata": {},
   "outputs": [
    {
     "name": "stderr",
     "output_type": "stream",
     "text": [
      "/Users/maheepchaudhary/miniforge3/envs/transit/lib/python3.11/site-packages/tqdm/auto.py:21: TqdmWarning: IProgress not found. Please update jupyter and ipywidgets. See https://ipywidgets.readthedocs.io/en/stable/user_install.html\n",
      "  from .autonotebook import tqdm as notebook_tqdm\n"
     ]
    }
   ],
   "source": [
    "from imports import *\n",
    "\n",
    "activation_embeds = {\n",
    "        \"layer 0\": [],\n",
    "        \"layer 1\": [],\n",
    "        \"layer 2\": [],\n",
    "        \"layer 3\": [],\n",
    "        \"layer 4\": [],\n",
    "        \"layer 5\": []\n",
    "    }"
   ]
  },
  {
   "cell_type": "code",
   "execution_count": 2,
   "metadata": {},
   "outputs": [
    {
     "name": "stdout",
     "output_type": "stream",
     "text": [
      "layer 0\n",
      "layer 1\n",
      "layer 2\n",
      "layer 3\n",
      "layer 4\n",
      "layer 5\n"
     ]
    }
   ],
   "source": [
    "for k in activation_embeds.keys():\n",
    "    print(k)"
   ]
  },
  {
   "cell_type": "code",
   "execution_count": 18,
   "metadata": {},
   "outputs": [
    {
     "name": "stdout",
     "output_type": "stream",
     "text": [
      "0.0\n"
     ]
    }
   ],
   "source": [
    "import numpy as np\n",
    "from scipy.spatial.distance import euclidean\n",
    "\n",
    "from fastdtw import fastdtw\n",
    "\n",
    "x = np.array([[2,3,43,44,5]])\n",
    "y = np.array([[2,3,43,44,5]])\n",
    "distance, path = fastdtw(x, y, dist=euclidean)\n",
    "print(distance)"
   ]
  },
  {
   "cell_type": "code",
   "execution_count": 2,
   "metadata": {},
   "outputs": [
    {
     "ename": "NameError",
     "evalue": "name 'reference' is not defined",
     "output_type": "error",
     "traceback": [
      "\u001b[0;31m---------------------------------------------------------------------------\u001b[0m",
      "\u001b[0;31mNameError\u001b[0m                                 Traceback (most recent call last)",
      "Cell \u001b[0;32mIn[2], line 1\u001b[0m\n\u001b[0;32m----> 1\u001b[0m _, path \u001b[38;5;241m=\u001b[39m fastdtw(\u001b[43mreference\u001b[49m, flattened_act, dist\u001b[38;5;241m=\u001b[39meuclidean)\n",
      "\u001b[0;31mNameError\u001b[0m: name 'reference' is not defined"
     ]
    }
   ],
   "source": [
    "_, path = fastdtw(reference, flattened_act, dist=euclidean)"
   ]
  },
  {
   "cell_type": "code",
   "execution_count": 22,
   "metadata": {},
   "outputs": [
    {
     "ename": "IndexError",
     "evalue": "index 10 is out of bounds for axis 0 with size 10",
     "output_type": "error",
     "traceback": [
      "\u001b[0;31m---------------------------------------------------------------------------\u001b[0m",
      "\u001b[0;31mIndexError\u001b[0m                                Traceback (most recent call last)",
      "Cell \u001b[0;32mIn[22], line 56\u001b[0m\n\u001b[1;32m     53\u001b[0m     \u001b[38;5;28;01mreturn\u001b[39;00m avg_activations\n\u001b[1;32m     55\u001b[0m \u001b[38;5;66;03m# Call the function\u001b[39;00m\n\u001b[0;32m---> 56\u001b[0m avg_activation \u001b[38;5;241m=\u001b[39m \u001b[43maverage_activation_for_layer\u001b[49m\u001b[43m(\u001b[49m\u001b[38;5;124;43m\"\u001b[39;49m\u001b[38;5;124;43mPythia70m\u001b[39;49m\u001b[38;5;124;43m\"\u001b[39;49m\u001b[43m)\u001b[49m\n",
      "Cell \u001b[0;32mIn[22], line 46\u001b[0m, in \u001b[0;36maverage_activation_for_layer\u001b[0;34m(model_name)\u001b[0m\n\u001b[1;32m     43\u001b[0m     _, path \u001b[38;5;241m=\u001b[39m fastdtw(reference, flattened_act, dist\u001b[38;5;241m=\u001b[39meuclidean)\n\u001b[1;32m     45\u001b[0m     \u001b[38;5;66;03m# Align activations based on DTW path\u001b[39;00m\n\u001b[0;32m---> 46\u001b[0m     aligned_acts\u001b[38;5;241m.\u001b[39mappend(\u001b[43m[\u001b[49m\u001b[43mflattened_act\u001b[49m\u001b[43m[\u001b[49m\u001b[43mi\u001b[49m\u001b[43m]\u001b[49m\u001b[43m \u001b[49m\u001b[38;5;28;43;01mfor\u001b[39;49;00m\u001b[43m \u001b[49m\u001b[43mi\u001b[49m\u001b[43m,\u001b[49m\u001b[43m \u001b[49m\u001b[43m_\u001b[49m\u001b[43m \u001b[49m\u001b[38;5;129;43;01min\u001b[39;49;00m\u001b[43m \u001b[49m\u001b[43mpath\u001b[49m\u001b[43m]\u001b[49m)\n\u001b[1;32m     48\u001b[0m \u001b[38;5;66;03m# Compute the mean of the aligned activations\u001b[39;00m\n\u001b[1;32m     49\u001b[0m avg_activations[layer] \u001b[38;5;241m=\u001b[39m np\u001b[38;5;241m.\u001b[39mmean(aligned_acts, axis\u001b[38;5;241m=\u001b[39m\u001b[38;5;241m0\u001b[39m)\n",
      "Cell \u001b[0;32mIn[22], line 46\u001b[0m, in \u001b[0;36m<listcomp>\u001b[0;34m(.0)\u001b[0m\n\u001b[1;32m     43\u001b[0m     _, path \u001b[38;5;241m=\u001b[39m fastdtw(reference, flattened_act, dist\u001b[38;5;241m=\u001b[39meuclidean)\n\u001b[1;32m     45\u001b[0m     \u001b[38;5;66;03m# Align activations based on DTW path\u001b[39;00m\n\u001b[0;32m---> 46\u001b[0m     aligned_acts\u001b[38;5;241m.\u001b[39mappend([\u001b[43mflattened_act\u001b[49m\u001b[43m[\u001b[49m\u001b[43mi\u001b[49m\u001b[43m]\u001b[49m \u001b[38;5;28;01mfor\u001b[39;00m i, _ \u001b[38;5;129;01min\u001b[39;00m path])\n\u001b[1;32m     48\u001b[0m \u001b[38;5;66;03m# Compute the mean of the aligned activations\u001b[39;00m\n\u001b[1;32m     49\u001b[0m avg_activations[layer] \u001b[38;5;241m=\u001b[39m np\u001b[38;5;241m.\u001b[39mmean(aligned_acts, axis\u001b[38;5;241m=\u001b[39m\u001b[38;5;241m0\u001b[39m)\n",
      "\u001b[0;31mIndexError\u001b[0m: index 10 is out of bounds for axis 0 with size 10"
     ]
    }
   ],
   "source": [
    "from imports import *\n",
    "from fastdtw import fastdtw\n",
    "from scipy.spatial.distance import euclidean\n",
    "\n",
    "\n",
    "def average_activation_for_layer(model_name):\n",
    "    datasets = [\"tinystories\", \"summarisation\", \"alpaca\"]\n",
    "\n",
    "    if model_name == \"Pythia14m\" or model_name == \"Pythia70m\":\n",
    "        model_layer = 6\n",
    "        activations = {f\"layer {i}\": [] for i in range(model_layer)}\n",
    "        \n",
    "    elif model_name == \"Pythia160m\":\n",
    "        model_layer = 12\n",
    "        activations = {f\"layer {i}\": [] for i in range(model_layer)}\n",
    "        \n",
    "    elif model_name == \"Pythia410m\":\n",
    "        model_layer = 24\n",
    "        activations = {f\"layer {i}\": [] for i in range(model_layer)}\n",
    "    \n",
    "    elif model_name == \"Pythia1b\":\n",
    "        model_layer = 16\n",
    "        activations = {f\"layer {i}\": [] for i in range(model_layer)}\n",
    "        \n",
    "    # Collect activations from datasets\n",
    "    for dataset in datasets:\n",
    "        file_path = f\"data/{dataset}/{model_name}/activation_resid.pkl\"\n",
    "        if os.path.exists(file_path):\n",
    "            with open(file_path, \"rb\") as f:\n",
    "                data = pickle.load(f)\n",
    "                for count, act_data in enumerate(data):\n",
    "                    activations[f\"layer {count}\"].append(act_data)\n",
    "\n",
    "    avg_activations = {}\n",
    "    \n",
    "    # Align activations using DTW and compute the average\n",
    "    for layer, acts in activations.items():\n",
    "        if acts:\n",
    "            reference = np.array([acts[0]]).reshape(-1,1)  # Flatten the reference activation\n",
    "            aligned_acts = []\n",
    "            for act in acts:\n",
    "                flattened_act = np.array([act]).reshape(-1,1)  # Flatten each activation before DTW\n",
    "                _, path = fastdtw(reference, flattened_act, dist=euclidean)\n",
    "                \n",
    "                # Align activations based on DTW path\n",
    "                aligned_acts.append([flattened_act[i] for i, _ in path])\n",
    "                \n",
    "            # Compute the mean of the aligned activations\n",
    "            avg_activations[layer] = np.mean(aligned_acts, axis=0)\n",
    "        else:\n",
    "            raise FileNotFoundError(f\"No activation data found for the specified model and layer {layer}.\")\n",
    "\n",
    "    return avg_activations\n",
    "\n",
    "# Call the function\n",
    "avg_activation = average_activation_for_layer(\"Pythia70m\")\n"
   ]
  },
  {
   "cell_type": "code",
   "execution_count": null,
   "metadata": {},
   "outputs": [],
   "source": []
  },
  {
   "cell_type": "code",
   "execution_count": null,
   "metadata": {},
   "outputs": [],
   "source": []
  }
 ],
 "metadata": {
  "kernelspec": {
   "display_name": "transit",
   "language": "python",
   "name": "python3"
  },
  "language_info": {
   "codemirror_mode": {
    "name": "ipython",
    "version": 3
   },
   "file_extension": ".py",
   "mimetype": "text/x-python",
   "name": "python",
   "nbconvert_exporter": "python",
   "pygments_lexer": "ipython3",
   "version": "3.11.9"
  }
 },
 "nbformat": 4,
 "nbformat_minor": 2
}
