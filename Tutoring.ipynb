{
 "cells": [
  {
   "cell_type": "code",
   "execution_count": 18,
   "metadata": {},
   "outputs": [
    {
     "name": "stdout",
     "output_type": "stream",
     "text": [
      "tensor([3.7199, 3.7495, 3.3422])\n"
     ]
    }
   ],
   "source": [
    "# Tutoring myself with pytorch\n",
    "\n",
    "import torch as t\n",
    "\n",
    "x = t.rand(3, requires_grad = True)\n",
    "\n",
    "y = x+2\n",
    "\n",
    "z = y*y*2\n",
    "\n",
    "z = z.mean()\n",
    "y.retain_grad()\n",
    "z.backward() # dz/dx\n",
    "\n",
    "print(y.grad)"
   ]
  },
  {
   "cell_type": "code",
   "execution_count": 33,
   "metadata": {},
   "outputs": [
    {
     "name": "stderr",
     "output_type": "stream",
     "text": [
      "You're using a GPTNeoXTokenizerFast tokenizer. Please note that with a fast tokenizer, using the `__call__` method is faster than using a method to encode the text followed by a call to the `pad` method to get a padded encoding.\n"
     ]
    },
    {
     "name": "stdout",
     "output_type": "stream",
     "text": [
      "tensor([[[  74254.6016,   86240.3281,   32078.4414,  ...,  -40278.3633,\n",
      "             3204.1621,   57686.4766],\n",
      "         [ 127067.4062,  -75719.9141,   17110.9102,  ...,   34926.8320,\n",
      "            97351.1016,   57586.2578],\n",
      "         [ 395235.7812,  131617.2500,   31522.3418,  ...,  -33699.4609,\n",
      "          -158051.6875,  -94951.6484],\n",
      "         ...,\n",
      "         [  16993.9863,  -20962.2891,   -5093.8003,  ...,  -19175.1406,\n",
      "             3141.7490,   22179.5000],\n",
      "         [  -8997.9590,  -10830.1123,   -1073.5027,  ...,   -2036.2819,\n",
      "            -3130.4297,   -3082.9805],\n",
      "         [  -2157.4988,  -13022.9834,  -10795.3965,  ...,   -7311.3613,\n",
      "            -7002.0752,    5693.8853]]])\n",
      "\n",
      "\n",
      "tensor([[[  74254.6016,   86240.3281,   32078.4414,  ...,  -40278.3633,\n",
      "             3204.1621,   57686.4766],\n",
      "         [ 127067.4062,  -75719.9141,   17110.9102,  ...,   34926.8320,\n",
      "            97351.1016,   57586.2578],\n",
      "         [ 395235.7812,  131617.2500,   31522.3418,  ...,  -33699.4609,\n",
      "          -158051.6875,  -94951.6484],\n",
      "         ...,\n",
      "         [  16993.9863,  -20962.2891,   -5093.8003,  ...,  -19175.1406,\n",
      "             3141.7490,   22179.5000],\n",
      "         [  -8997.9590,  -10830.1123,   -1073.5027,  ...,   -2036.2819,\n",
      "            -3130.4297,   -3082.9805],\n",
      "         [  -2157.4988,  -13022.9834,  -10795.3965,  ...,   -7311.3613,\n",
      "            -7002.0752,    5693.8853]]])\n"
     ]
    }
   ],
   "source": [
    "from imports import *\n",
    "\n",
    "with open(\"data/pythia_val_data_b16.pkl\", \"rb\") as f:\n",
    "    val_dataloader = pickle.load(f)\n",
    "\n",
    "model = LanguageModel(\"EleutherAI/pythia-70m\", device_map = \"cpu\")\n",
    "\n",
    "with model.trace(inputs[\"input_ids\"]) as tracer:\n",
    "    \n",
    "    output_mlp = model.gpt_neox.layers[0].mlp.dense_4h_to_h.output.grad.save()\n",
    "    output_attn = model.gpt_neox.layers[0].attention.dense.output.grad.save()\n",
    "    \n",
    "    \n",
    "    model.output.logits.sum().backward()\n",
    "\n",
    "print(output_mlp)\n",
    "print();print()\n",
    "print(output_attn)"
   ]
  },
  {
   "cell_type": "code",
   "execution_count": 9,
   "metadata": {},
   "outputs": [
    {
     "name": "stderr",
     "output_type": "stream",
     "text": [
      "/Users/maheepchaudhary/miniforge3/envs/transit/lib/python3.11/site-packages/transformers/tokenization_utils_base.py:1601: FutureWarning: `clean_up_tokenization_spaces` was not set. It will be set to `True` by default. This behavior will be depracted in transformers v4.45, and will be then set to `False` by default. For more details check this issue: https://github.com/huggingface/transformers/issues/31884\n",
      "  warnings.warn(\n"
     ]
    },
    {
     "name": "stdout",
     "output_type": "stream",
     "text": [
      "'Training set size: 2119719'\n",
      "'Validation set size: 21990'\n",
      "['text']\n",
      "{'text': Value(dtype='string', id=None)}\n",
      "\n",
      "'---------------------------------'\n",
      "\n"
     ]
    },
    {
     "name": "stderr",
     "output_type": "stream",
     "text": [
      "  0%|          | 0/21990 [00:00<?, ?it/s]"
     ]
    },
    {
     "name": "stdout",
     "output_type": "stream",
     "text": [
      "torch.Size([1, 128, 50304])\n"
     ]
    },
    {
     "name": "stderr",
     "output_type": "stream",
     "text": [
      "  0%|          | 1/21990 [00:08<54:09:58,  8.87s/it]"
     ]
    },
    {
     "name": "stdout",
     "output_type": "stream",
     "text": [
      "(1, 128, 6)\n",
      "torch.Size([1, 128, 50304])\n"
     ]
    },
    {
     "name": "stderr",
     "output_type": "stream",
     "text": [
      "  0%|          | 2/21990 [00:19<61:04:16, 10.00s/it]"
     ]
    },
    {
     "name": "stdout",
     "output_type": "stream",
     "text": [
      "(2, 128, 6)\n",
      "torch.Size([1, 128, 50304])\n"
     ]
    },
    {
     "name": "stderr",
     "output_type": "stream",
     "text": [
      "  0%|          | 3/21990 [00:28<56:37:54,  9.27s/it]"
     ]
    },
    {
     "name": "stdout",
     "output_type": "stream",
     "text": [
      "(3, 128, 6)\n",
      "torch.Size([1, 128, 50304])\n"
     ]
    },
    {
     "name": "stderr",
     "output_type": "stream",
     "text": [
      "  0%|          | 4/21990 [00:36<55:32:31,  9.09s/it]"
     ]
    },
    {
     "name": "stdout",
     "output_type": "stream",
     "text": [
      "(4, 128, 6)\n",
      "torch.Size([1, 128, 50304])\n"
     ]
    },
    {
     "name": "stderr",
     "output_type": "stream",
     "text": [
      "  0%|          | 5/21990 [00:45<55:02:11,  9.01s/it]"
     ]
    },
    {
     "name": "stdout",
     "output_type": "stream",
     "text": [
      "(5, 128, 6)\n",
      "torch.Size([1, 128, 50304])\n"
     ]
    },
    {
     "name": "stderr",
     "output_type": "stream",
     "text": [
      "  0%|          | 6/21990 [00:54<54:29:36,  8.92s/it]"
     ]
    },
    {
     "name": "stdout",
     "output_type": "stream",
     "text": [
      "(6, 128, 6)\n",
      "torch.Size([1, 128, 50304])\n"
     ]
    },
    {
     "name": "stderr",
     "output_type": "stream",
     "text": [
      "  0%|          | 7/21990 [01:02<53:32:40,  8.77s/it]"
     ]
    },
    {
     "name": "stdout",
     "output_type": "stream",
     "text": [
      "(7, 128, 6)\n",
      "torch.Size([1, 128, 50304])\n"
     ]
    },
    {
     "name": "stderr",
     "output_type": "stream",
     "text": [
      "  0%|          | 8/21990 [01:10<51:13:57,  8.39s/it]"
     ]
    },
    {
     "name": "stdout",
     "output_type": "stream",
     "text": [
      "(8, 128, 6)\n",
      "torch.Size([1, 128, 50304])\n"
     ]
    },
    {
     "name": "stderr",
     "output_type": "stream",
     "text": [
      "  0%|          | 9/21990 [01:18<50:59:49,  8.35s/it]"
     ]
    },
    {
     "name": "stdout",
     "output_type": "stream",
     "text": [
      "(9, 128, 6)\n",
      "torch.Size([1, 128, 50304])\n"
     ]
    },
    {
     "name": "stderr",
     "output_type": "stream",
     "text": [
      "  0%|          | 10/21990 [01:28<54:01:42,  8.85s/it]"
     ]
    },
    {
     "name": "stdout",
     "output_type": "stream",
     "text": [
      "(10, 128, 6)\n",
      "torch.Size([1, 128, 50304])\n"
     ]
    },
    {
     "name": "stderr",
     "output_type": "stream",
     "text": [
      "  0%|          | 11/21990 [01:38<55:04:15,  9.02s/it]"
     ]
    },
    {
     "name": "stdout",
     "output_type": "stream",
     "text": [
      "(11, 128, 6)\n",
      "torch.Size([1, 128, 50304])\n"
     ]
    },
    {
     "name": "stderr",
     "output_type": "stream",
     "text": [
      "  0%|          | 12/21990 [01:48<56:36:25,  9.27s/it]"
     ]
    },
    {
     "name": "stdout",
     "output_type": "stream",
     "text": [
      "(12, 128, 6)\n",
      "torch.Size([1, 128, 50304])\n"
     ]
    },
    {
     "name": "stderr",
     "output_type": "stream",
     "text": [
      "  0%|          | 13/21990 [01:57<56:33:14,  9.26s/it]"
     ]
    },
    {
     "name": "stdout",
     "output_type": "stream",
     "text": [
      "(13, 128, 6)\n",
      "torch.Size([1, 128, 50304])\n"
     ]
    },
    {
     "name": "stderr",
     "output_type": "stream",
     "text": [
      "  0%|          | 14/21990 [02:05<55:28:25,  9.09s/it]"
     ]
    },
    {
     "name": "stdout",
     "output_type": "stream",
     "text": [
      "(14, 128, 6)\n",
      "torch.Size([1, 128, 50304])\n"
     ]
    },
    {
     "name": "stderr",
     "output_type": "stream",
     "text": [
      "  0%|          | 15/21990 [02:13<53:23:08,  8.75s/it]"
     ]
    },
    {
     "name": "stdout",
     "output_type": "stream",
     "text": [
      "(15, 128, 6)\n",
      "torch.Size([1, 128, 50304])\n"
     ]
    },
    {
     "name": "stderr",
     "output_type": "stream",
     "text": [
      "  0%|          | 16/21990 [02:22<52:13:38,  8.56s/it]"
     ]
    },
    {
     "name": "stdout",
     "output_type": "stream",
     "text": [
      "(16, 128, 6)\n",
      "torch.Size([1, 128, 50304])\n"
     ]
    },
    {
     "name": "stderr",
     "output_type": "stream",
     "text": [
      "  0%|          | 17/21990 [02:30<52:20:57,  8.58s/it]"
     ]
    },
    {
     "name": "stdout",
     "output_type": "stream",
     "text": [
      "(17, 128, 6)\n",
      "torch.Size([1, 128, 50304])\n"
     ]
    },
    {
     "name": "stderr",
     "output_type": "stream",
     "text": [
      "  0%|          | 18/21990 [02:38<51:56:28,  8.51s/it]"
     ]
    },
    {
     "name": "stdout",
     "output_type": "stream",
     "text": [
      "(18, 128, 6)\n",
      "torch.Size([1, 128, 50304])\n"
     ]
    },
    {
     "name": "stderr",
     "output_type": "stream",
     "text": [
      "  0%|          | 19/21990 [02:47<51:32:39,  8.45s/it]"
     ]
    },
    {
     "name": "stdout",
     "output_type": "stream",
     "text": [
      "(19, 128, 6)\n",
      "torch.Size([1, 128, 50304])\n"
     ]
    },
    {
     "name": "stderr",
     "output_type": "stream",
     "text": [
      "  0%|          | 20/21990 [02:55<51:32:45,  8.45s/it]"
     ]
    },
    {
     "name": "stdout",
     "output_type": "stream",
     "text": [
      "(20, 128, 6)\n",
      "torch.Size([1, 128, 50304])\n"
     ]
    },
    {
     "name": "stderr",
     "output_type": "stream",
     "text": [
      "  0%|          | 21/21990 [03:03<49:59:01,  8.19s/it]"
     ]
    },
    {
     "name": "stdout",
     "output_type": "stream",
     "text": [
      "(21, 128, 6)\n",
      "torch.Size([1, 128, 50304])\n"
     ]
    },
    {
     "name": "stderr",
     "output_type": "stream",
     "text": [
      "  0%|          | 22/21990 [03:11<50:02:14,  8.20s/it]"
     ]
    },
    {
     "name": "stdout",
     "output_type": "stream",
     "text": [
      "(22, 128, 6)\n",
      "torch.Size([1, 128, 50304])\n"
     ]
    },
    {
     "name": "stderr",
     "output_type": "stream",
     "text": [
      "  0%|          | 23/21990 [03:19<48:58:39,  8.03s/it]"
     ]
    },
    {
     "name": "stdout",
     "output_type": "stream",
     "text": [
      "(23, 128, 6)\n",
      "torch.Size([1, 128, 50304])\n"
     ]
    },
    {
     "name": "stderr",
     "output_type": "stream",
     "text": [
      "  0%|          | 24/21990 [03:27<49:31:58,  8.12s/it]"
     ]
    },
    {
     "name": "stdout",
     "output_type": "stream",
     "text": [
      "(24, 128, 6)\n",
      "torch.Size([1, 128, 50304])\n"
     ]
    },
    {
     "name": "stderr",
     "output_type": "stream",
     "text": [
      "  0%|          | 25/21990 [03:35<49:49:47,  8.17s/it]"
     ]
    },
    {
     "name": "stdout",
     "output_type": "stream",
     "text": [
      "(25, 128, 6)\n",
      "torch.Size([1, 128, 50304])\n"
     ]
    },
    {
     "name": "stderr",
     "output_type": "stream",
     "text": [
      "  0%|          | 26/21990 [03:43<48:43:39,  7.99s/it]"
     ]
    },
    {
     "name": "stdout",
     "output_type": "stream",
     "text": [
      "(26, 128, 6)\n",
      "torch.Size([1, 128, 50304])\n"
     ]
    },
    {
     "name": "stderr",
     "output_type": "stream",
     "text": [
      "  0%|          | 27/21990 [03:50<48:04:39,  7.88s/it]"
     ]
    },
    {
     "name": "stdout",
     "output_type": "stream",
     "text": [
      "(27, 128, 6)\n",
      "torch.Size([1, 128, 50304])\n"
     ]
    },
    {
     "name": "stderr",
     "output_type": "stream",
     "text": [
      "  0%|          | 28/21990 [03:59<49:54:56,  8.18s/it]"
     ]
    },
    {
     "name": "stdout",
     "output_type": "stream",
     "text": [
      "(28, 128, 6)\n",
      "torch.Size([1, 128, 50304])\n"
     ]
    },
    {
     "name": "stderr",
     "output_type": "stream",
     "text": [
      "  0%|          | 29/21990 [04:06<47:31:22,  7.79s/it]"
     ]
    },
    {
     "name": "stdout",
     "output_type": "stream",
     "text": [
      "(29, 128, 6)\n",
      "torch.Size([1, 128, 50304])\n"
     ]
    },
    {
     "name": "stderr",
     "output_type": "stream",
     "text": [
      "  0%|          | 30/21990 [04:14<48:00:07,  7.87s/it]"
     ]
    },
    {
     "name": "stdout",
     "output_type": "stream",
     "text": [
      "(30, 128, 6)\n",
      "torch.Size([1, 128, 50304])\n"
     ]
    },
    {
     "name": "stderr",
     "output_type": "stream",
     "text": [
      "  0%|          | 31/21990 [04:23<48:45:35,  7.99s/it]"
     ]
    },
    {
     "name": "stdout",
     "output_type": "stream",
     "text": [
      "(31, 128, 6)\n",
      "torch.Size([1, 128, 50304])\n"
     ]
    },
    {
     "name": "stderr",
     "output_type": "stream",
     "text": [
      "  0%|          | 32/21990 [04:30<48:04:08,  7.88s/it]"
     ]
    },
    {
     "name": "stdout",
     "output_type": "stream",
     "text": [
      "(32, 128, 6)\n",
      "torch.Size([1, 128, 50304])\n"
     ]
    },
    {
     "name": "stderr",
     "output_type": "stream",
     "text": [
      "  0%|          | 33/21990 [04:38<48:40:41,  7.98s/it]"
     ]
    },
    {
     "name": "stdout",
     "output_type": "stream",
     "text": [
      "(33, 128, 6)\n",
      "torch.Size([1, 128, 50304])\n"
     ]
    },
    {
     "name": "stderr",
     "output_type": "stream",
     "text": [
      "  0%|          | 34/21990 [04:47<48:53:51,  8.02s/it]"
     ]
    },
    {
     "name": "stdout",
     "output_type": "stream",
     "text": [
      "(34, 128, 6)\n",
      "torch.Size([1, 128, 50304])\n"
     ]
    },
    {
     "name": "stderr",
     "output_type": "stream",
     "text": [
      "  0%|          | 35/21990 [04:54<48:14:49,  7.91s/it]"
     ]
    },
    {
     "name": "stdout",
     "output_type": "stream",
     "text": [
      "(35, 128, 6)\n",
      "torch.Size([1, 128, 50304])\n"
     ]
    },
    {
     "name": "stderr",
     "output_type": "stream",
     "text": [
      "  0%|          | 36/21990 [05:02<48:16:23,  7.92s/it]"
     ]
    },
    {
     "name": "stdout",
     "output_type": "stream",
     "text": [
      "(36, 128, 6)\n",
      "torch.Size([1, 128, 50304])\n"
     ]
    },
    {
     "name": "stderr",
     "output_type": "stream",
     "text": [
      "  0%|          | 37/21990 [05:10<47:58:24,  7.87s/it]"
     ]
    },
    {
     "name": "stdout",
     "output_type": "stream",
     "text": [
      "(37, 128, 6)\n",
      "torch.Size([1, 128, 50304])\n"
     ]
    },
    {
     "name": "stderr",
     "output_type": "stream",
     "text": [
      "  0%|          | 38/21990 [05:18<47:46:44,  7.84s/it]"
     ]
    },
    {
     "name": "stdout",
     "output_type": "stream",
     "text": [
      "(38, 128, 6)\n",
      "torch.Size([1, 128, 50304])\n"
     ]
    },
    {
     "name": "stderr",
     "output_type": "stream",
     "text": [
      "  0%|          | 39/21990 [05:26<49:04:06,  8.05s/it]"
     ]
    },
    {
     "name": "stdout",
     "output_type": "stream",
     "text": [
      "(39, 128, 6)\n",
      "torch.Size([1, 128, 50304])\n"
     ]
    },
    {
     "name": "stderr",
     "output_type": "stream",
     "text": [
      "  0%|          | 40/21990 [05:35<49:52:18,  8.18s/it]"
     ]
    },
    {
     "name": "stdout",
     "output_type": "stream",
     "text": [
      "(40, 128, 6)\n",
      "torch.Size([1, 128, 50304])\n"
     ]
    },
    {
     "name": "stderr",
     "output_type": "stream",
     "text": [
      "  0%|          | 41/21990 [05:42<48:36:21,  7.97s/it]"
     ]
    },
    {
     "name": "stdout",
     "output_type": "stream",
     "text": [
      "(41, 128, 6)\n",
      "torch.Size([1, 128, 50304])\n"
     ]
    },
    {
     "name": "stderr",
     "output_type": "stream",
     "text": [
      "  0%|          | 42/21990 [05:50<48:00:15,  7.87s/it]"
     ]
    },
    {
     "name": "stdout",
     "output_type": "stream",
     "text": [
      "(42, 128, 6)\n",
      "torch.Size([1, 128, 50304])\n"
     ]
    },
    {
     "name": "stderr",
     "output_type": "stream",
     "text": [
      "  0%|          | 43/21990 [05:58<48:49:37,  8.01s/it]"
     ]
    },
    {
     "name": "stdout",
     "output_type": "stream",
     "text": [
      "(43, 128, 6)\n",
      "torch.Size([1, 128, 50304])\n"
     ]
    },
    {
     "name": "stderr",
     "output_type": "stream",
     "text": [
      "  0%|          | 44/21990 [06:06<48:23:53,  7.94s/it]"
     ]
    },
    {
     "name": "stdout",
     "output_type": "stream",
     "text": [
      "(44, 128, 6)\n",
      "torch.Size([1, 128, 50304])\n"
     ]
    },
    {
     "name": "stderr",
     "output_type": "stream",
     "text": [
      "  0%|          | 45/21990 [06:14<48:01:50,  7.88s/it]"
     ]
    },
    {
     "name": "stdout",
     "output_type": "stream",
     "text": [
      "(45, 128, 6)\n",
      "torch.Size([1, 128, 50304])\n"
     ]
    },
    {
     "name": "stderr",
     "output_type": "stream",
     "text": [
      "  0%|          | 46/21990 [06:21<47:22:25,  7.77s/it]"
     ]
    },
    {
     "name": "stdout",
     "output_type": "stream",
     "text": [
      "(46, 128, 6)\n",
      "torch.Size([1, 128, 50304])\n"
     ]
    },
    {
     "name": "stderr",
     "output_type": "stream",
     "text": [
      "  0%|          | 47/21990 [06:29<48:13:06,  7.91s/it]"
     ]
    },
    {
     "name": "stdout",
     "output_type": "stream",
     "text": [
      "(47, 128, 6)\n",
      "torch.Size([1, 128, 50304])\n"
     ]
    },
    {
     "name": "stderr",
     "output_type": "stream",
     "text": [
      "  0%|          | 48/21990 [06:38<49:07:09,  8.06s/it]"
     ]
    },
    {
     "name": "stdout",
     "output_type": "stream",
     "text": [
      "(48, 128, 6)\n",
      "torch.Size([1, 128, 50304])\n"
     ]
    },
    {
     "name": "stderr",
     "output_type": "stream",
     "text": [
      "  0%|          | 49/21990 [06:46<49:28:43,  8.12s/it]"
     ]
    },
    {
     "name": "stdout",
     "output_type": "stream",
     "text": [
      "(49, 128, 6)\n",
      "torch.Size([1, 128, 50304])\n"
     ]
    },
    {
     "name": "stderr",
     "output_type": "stream",
     "text": [
      "  0%|          | 50/21990 [06:53<48:03:54,  7.89s/it]"
     ]
    },
    {
     "name": "stdout",
     "output_type": "stream",
     "text": [
      "(50, 128, 6)\n",
      "torch.Size([1, 128, 50304])\n"
     ]
    },
    {
     "name": "stderr",
     "output_type": "stream",
     "text": [
      "  0%|          | 50/21990 [07:02<51:27:45,  8.44s/it]"
     ]
    },
    {
     "name": "stdout",
     "output_type": "stream",
     "text": [
      "(51, 128, 6)\n"
     ]
    },
    {
     "name": "stderr",
     "output_type": "stream",
     "text": [
      "\n"
     ]
    },
    {
     "data": {
      "text/plain": [
       "<function matplotlib.pyplot.close(fig: \"None | int | str | Figure | Literal['all']\" = None) -> 'None'>"
      ]
     },
     "execution_count": 9,
     "metadata": {},
     "output_type": "execute_result"
    },
    {
     "data": {
      "image/png": "[encoded data removed]",
      "text/plain": [
       "<Figure size 1500x600 with 2 Axes>"
      ]
     },
     "metadata": {},
     "output_type": "display_data"
    }
   ],
   "source": [
    "import torch\n",
    "import numpy as np\n",
    "import matplotlib.pyplot as plt\n",
    "import seaborn as sns\n",
    "from transformers import AutoModelForCausalLM, AutoTokenizer\n",
    "from imports import *\n",
    "from dataset import *\n",
    "\n",
    "# Load the Pythia model and tokenizer\n",
    "model = AutoModelForCausalLM.from_pretrained('EleutherAI/pythia-70m')\n",
    "tokenizer = AutoTokenizer.from_pretrained('EleutherAI/pythia-70m')\n",
    "tokenizer.pad_token = tokenizer.eos_token\n",
    "\n",
    "train_data, val_data = inspect_data(data)\n",
    "\n",
    "# Sample input\n",
    "input_text = 'One day, a little girl named Lily found a needle in her room. She knew it was difficult to play with it because it was sharp. Lily wanted to share the needle with her mom, so she could sew a button on her shirt. Lily went to her mom and said, \"Mom, I found this needle. Can you share it with me and sew my shirt?\" Her mom smiled and said, \"Yes, Lily, we can share the needle and fix your shirt.\" Together, they shared the needle and sewed the button on Lilys shirt. It was not difficult for them because they were sharing and helping each other. After they finished, Lily thanked her mom for sharing the needle and fixing her shirt. They both felt happy because they had shared and worked together.'\n",
    "# inputs = tokenizer(input_text, return_tensors=\"pt\")\n",
    "\n",
    "\n",
    "# Define a list to store gradients per token\n",
    "\n",
    "\n",
    "# Ensure the model is in evaluation mode\n",
    "# model.eval()\n",
    "\n",
    "final_data = []\n",
    "\n",
    "\n",
    "for index, data in enumerate(tqdm(val_data[\"text\"])):\n",
    "    \n",
    "    token_gradients = []\n",
    "    \n",
    "    inputs = tokenizer(data, return_tensors=\"pt\", padding='max_length', max_length=128, truncation=True)\n",
    "\n",
    "    # Get the outputs and compute loss\n",
    "    outputs = model(**inputs)\n",
    "    logits = outputs.logits\n",
    "    loss = logits.sum()  # Example loss\n",
    "\n",
    "    print(logits.shape)\n",
    "\n",
    "    # Iterate over each token\n",
    "    for token_idx in range(inputs[\"input_ids\"].shape[1]):  # Loop over the sequence length (tokens)\n",
    "        model.zero_grad()  # Clear any previous gradients\n",
    "        \n",
    "        # Compute loss only for this specific token's contribution\n",
    "        # Modify this if needed to focus on the exact component of the loss related to the token\n",
    "        token_loss = logits[0, token_idx, :].sum()\n",
    "        \n",
    "        # Perform backward pass\n",
    "        token_loss.backward(retain_graph=True)  # retain_graph=True allows subsequent backward passes\n",
    "        \n",
    "        # Collect the gradient of the specific parameter for this token\n",
    "        gradients = []\n",
    "        for i in range(6):\n",
    "            layer = model.gpt_neox.layers[i].mlp.dense_4h_to_h  # Access the specific layer/parameter (adapted to Pythia)\n",
    "            param_grad = layer.weight.grad.clone().view(-1)  # Clone and reshape the gradient\n",
    "            gradients.append(param_grad.unsqueeze(0))  # Append the gradient for this token\n",
    "\n",
    "        # Convert gradients to a tensor and add to the list\n",
    "        token_gradients.append(torch.cat(gradients, dim=0))  # Shape: (layer_count, output_dim)\n",
    "\n",
    "    # Convert token gradients to a tensor for visualization\n",
    "    token_gradients_tensor = torch.stack(token_gradients)  # Shape: (seq_len, layer_count, output_dim)\n",
    "\n",
    "    # Compute the average gradient norm across layers for visualization\n",
    "    average_gradients_tensor = torch.log(token_gradients_tensor.norm(dim=2))  # Shape: (seq_len, layer_count)\n",
    "\n",
    "    final_data.append(average_gradients_tensor)\n",
    "\n",
    "    print(np.array(final_data).shape)\n",
    "\n",
    "    if index == 50:\n",
    "        break\n",
    "\n",
    "\n",
    "# Visualize the gradients using a heatmap\n",
    "plt.figure(figsize=(15, 6))\n",
    "sns.heatmap(np.mean(np.array(final_data), axis = 0).T, cmap='viridis', cbar=True, yticklabels=range(6), xticklabels=range(average_gradients_tensor.size(0)))\n",
    "plt.xlabel('Token Index')\n",
    "plt.ylabel('Layer Index')\n",
    "plt.title('Token-wise Gradient Norms Across Layers for mlp.dense_4h_to_h on log scale')\n",
    "plt.savefig(\"Pythia_MLP_Grad_50_samples.png\")\n",
    "plt.close"
   ]
  },
  {
   "cell_type": "code",
   "execution_count": 10,
   "metadata": {},
   "outputs": [
    {
     "name": "stderr",
     "output_type": "stream",
     "text": [
      "/Users/maheepchaudhary/miniforge3/envs/transit/lib/python3.11/site-packages/transformers/tokenization_utils_base.py:1601: FutureWarning: `clean_up_tokenization_spaces` was not set. It will be set to `True` by default. This behavior will be depracted in transformers v4.45, and will be then set to `False` by default. For more details check this issue: https://github.com/huggingface/transformers/issues/31884\n",
      "  warnings.warn(\n"
     ]
    },
    {
     "name": "stdout",
     "output_type": "stream",
     "text": [
      "'Training set size: 2119719'\n",
      "'Validation set size: 21990'\n",
      "['text']\n",
      "{'text': Value(dtype='string', id=None)}\n",
      "\n",
      "'---------------------------------'\n",
      "\n"
     ]
    },
    {
     "name": "stderr",
     "output_type": "stream",
     "text": [
      "  0%|          | 0/21990 [00:00<?, ?it/s]"
     ]
    },
    {
     "name": "stdout",
     "output_type": "stream",
     "text": [
      "torch.Size([1, 128, 50304])\n"
     ]
    },
    {
     "name": "stderr",
     "output_type": "stream",
     "text": [
      "  0%|          | 1/21990 [00:05<34:38:30,  5.67s/it]"
     ]
    },
    {
     "name": "stdout",
     "output_type": "stream",
     "text": [
      "(1, 128, 6)\n",
      "torch.Size([1, 128, 50304])\n"
     ]
    },
    {
     "name": "stderr",
     "output_type": "stream",
     "text": [
      "  0%|          | 2/21990 [00:11<34:20:10,  5.62s/it]"
     ]
    },
    {
     "name": "stdout",
     "output_type": "stream",
     "text": [
      "(2, 128, 6)\n",
      "torch.Size([1, 128, 50304])\n"
     ]
    },
    {
     "name": "stderr",
     "output_type": "stream",
     "text": [
      "  0%|          | 3/21990 [00:16<33:39:39,  5.51s/it]"
     ]
    },
    {
     "name": "stdout",
     "output_type": "stream",
     "text": [
      "(3, 128, 6)\n",
      "torch.Size([1, 128, 50304])\n"
     ]
    },
    {
     "name": "stderr",
     "output_type": "stream",
     "text": [
      "  0%|          | 4/21990 [00:22<33:53:25,  5.55s/it]"
     ]
    },
    {
     "name": "stdout",
     "output_type": "stream",
     "text": [
      "(4, 128, 6)\n",
      "torch.Size([1, 128, 50304])\n"
     ]
    },
    {
     "name": "stderr",
     "output_type": "stream",
     "text": [
      "  0%|          | 5/21990 [00:27<33:44:50,  5.53s/it]"
     ]
    },
    {
     "name": "stdout",
     "output_type": "stream",
     "text": [
      "(5, 128, 6)\n",
      "torch.Size([1, 128, 50304])\n"
     ]
    },
    {
     "name": "stderr",
     "output_type": "stream",
     "text": [
      "  0%|          | 6/21990 [00:33<33:32:29,  5.49s/it]"
     ]
    },
    {
     "name": "stdout",
     "output_type": "stream",
     "text": [
      "(6, 128, 6)\n",
      "torch.Size([1, 128, 50304])\n"
     ]
    },
    {
     "name": "stderr",
     "output_type": "stream",
     "text": [
      "  0%|          | 7/21990 [00:38<33:09:46,  5.43s/it]"
     ]
    },
    {
     "name": "stdout",
     "output_type": "stream",
     "text": [
      "(7, 128, 6)\n",
      "torch.Size([1, 128, 50304])\n"
     ]
    },
    {
     "name": "stderr",
     "output_type": "stream",
     "text": [
      "  0%|          | 8/21990 [00:43<32:57:02,  5.40s/it]"
     ]
    },
    {
     "name": "stdout",
     "output_type": "stream",
     "text": [
      "(8, 128, 6)\n",
      "torch.Size([1, 128, 50304])\n"
     ]
    },
    {
     "name": "stderr",
     "output_type": "stream",
     "text": [
      "  0%|          | 9/21990 [00:49<32:50:51,  5.38s/it]"
     ]
    },
    {
     "name": "stdout",
     "output_type": "stream",
     "text": [
      "(9, 128, 6)\n",
      "torch.Size([1, 128, 50304])\n"
     ]
    },
    {
     "name": "stderr",
     "output_type": "stream",
     "text": [
      "  0%|          | 10/21990 [00:54<32:51:43,  5.38s/it]"
     ]
    },
    {
     "name": "stdout",
     "output_type": "stream",
     "text": [
      "(10, 128, 6)\n",
      "torch.Size([1, 128, 50304])\n"
     ]
    },
    {
     "name": "stderr",
     "output_type": "stream",
     "text": [
      "  0%|          | 11/21990 [00:59<32:52:29,  5.38s/it]"
     ]
    },
    {
     "name": "stdout",
     "output_type": "stream",
     "text": [
      "(11, 128, 6)\n",
      "torch.Size([1, 128, 50304])\n"
     ]
    },
    {
     "name": "stderr",
     "output_type": "stream",
     "text": [
      "  0%|          | 12/21990 [01:05<32:59:51,  5.41s/it]"
     ]
    },
    {
     "name": "stdout",
     "output_type": "stream",
     "text": [
      "(12, 128, 6)\n",
      "torch.Size([1, 128, 50304])\n"
     ]
    },
    {
     "name": "stderr",
     "output_type": "stream",
     "text": [
      "  0%|          | 13/21990 [01:11<33:34:49,  5.50s/it]"
     ]
    },
    {
     "name": "stdout",
     "output_type": "stream",
     "text": [
      "(13, 128, 6)\n",
      "torch.Size([1, 128, 50304])\n"
     ]
    },
    {
     "name": "stderr",
     "output_type": "stream",
     "text": [
      "  0%|          | 14/21990 [01:16<33:35:21,  5.50s/it]"
     ]
    },
    {
     "name": "stdout",
     "output_type": "stream",
     "text": [
      "(14, 128, 6)\n",
      "torch.Size([1, 128, 50304])\n"
     ]
    },
    {
     "name": "stderr",
     "output_type": "stream",
     "text": [
      "  0%|          | 15/21990 [01:22<33:52:25,  5.55s/it]"
     ]
    },
    {
     "name": "stdout",
     "output_type": "stream",
     "text": [
      "(15, 128, 6)\n",
      "torch.Size([1, 128, 50304])\n"
     ]
    },
    {
     "name": "stderr",
     "output_type": "stream",
     "text": [
      "  0%|          | 16/21990 [01:27<33:47:12,  5.54s/it]"
     ]
    },
    {
     "name": "stdout",
     "output_type": "stream",
     "text": [
      "(16, 128, 6)\n",
      "torch.Size([1, 128, 50304])\n"
     ]
    },
    {
     "name": "stderr",
     "output_type": "stream",
     "text": [
      "  0%|          | 17/21990 [01:33<33:36:16,  5.51s/it]"
     ]
    },
    {
     "name": "stdout",
     "output_type": "stream",
     "text": [
      "(17, 128, 6)\n",
      "torch.Size([1, 128, 50304])\n"
     ]
    },
    {
     "name": "stderr",
     "output_type": "stream",
     "text": [
      "  0%|          | 18/21990 [01:38<33:23:00,  5.47s/it]"
     ]
    },
    {
     "name": "stdout",
     "output_type": "stream",
     "text": [
      "(18, 128, 6)\n",
      "torch.Size([1, 128, 50304])\n"
     ]
    },
    {
     "name": "stderr",
     "output_type": "stream",
     "text": [
      "  0%|          | 19/21990 [01:43<33:10:10,  5.43s/it]"
     ]
    },
    {
     "name": "stdout",
     "output_type": "stream",
     "text": [
      "(19, 128, 6)\n",
      "torch.Size([1, 128, 50304])\n"
     ]
    },
    {
     "name": "stderr",
     "output_type": "stream",
     "text": [
      "  0%|          | 20/21990 [01:49<33:01:04,  5.41s/it]"
     ]
    },
    {
     "name": "stdout",
     "output_type": "stream",
     "text": [
      "(20, 128, 6)\n",
      "torch.Size([1, 128, 50304])\n"
     ]
    },
    {
     "name": "stderr",
     "output_type": "stream",
     "text": [
      "  0%|          | 21/21990 [01:54<32:48:03,  5.38s/it]"
     ]
    },
    {
     "name": "stdout",
     "output_type": "stream",
     "text": [
      "(21, 128, 6)\n",
      "torch.Size([1, 128, 50304])\n"
     ]
    },
    {
     "name": "stderr",
     "output_type": "stream",
     "text": [
      "  0%|          | 22/21990 [01:59<32:34:36,  5.34s/it]"
     ]
    },
    {
     "name": "stdout",
     "output_type": "stream",
     "text": [
      "(22, 128, 6)\n",
      "torch.Size([1, 128, 50304])\n"
     ]
    },
    {
     "name": "stderr",
     "output_type": "stream",
     "text": [
      "  0%|          | 23/21990 [02:05<32:32:18,  5.33s/it]"
     ]
    },
    {
     "name": "stdout",
     "output_type": "stream",
     "text": [
      "(23, 128, 6)\n",
      "torch.Size([1, 128, 50304])\n"
     ]
    },
    {
     "name": "stderr",
     "output_type": "stream",
     "text": [
      "  0%|          | 24/21990 [02:10<32:31:39,  5.33s/it]"
     ]
    },
    {
     "name": "stdout",
     "output_type": "stream",
     "text": [
      "(24, 128, 6)\n",
      "torch.Size([1, 128, 50304])\n"
     ]
    },
    {
     "name": "stderr",
     "output_type": "stream",
     "text": [
      "  0%|          | 25/21990 [02:15<32:28:10,  5.32s/it]"
     ]
    },
    {
     "name": "stdout",
     "output_type": "stream",
     "text": [
      "(25, 128, 6)\n",
      "torch.Size([1, 128, 50304])\n"
     ]
    },
    {
     "name": "stderr",
     "output_type": "stream",
     "text": [
      "  0%|          | 26/21990 [02:21<32:29:00,  5.32s/it]"
     ]
    },
    {
     "name": "stdout",
     "output_type": "stream",
     "text": [
      "(26, 128, 6)\n",
      "torch.Size([1, 128, 50304])\n"
     ]
    },
    {
     "name": "stderr",
     "output_type": "stream",
     "text": [
      "  0%|          | 27/21990 [02:26<32:23:12,  5.31s/it]"
     ]
    },
    {
     "name": "stdout",
     "output_type": "stream",
     "text": [
      "(27, 128, 6)\n",
      "torch.Size([1, 128, 50304])\n"
     ]
    },
    {
     "name": "stderr",
     "output_type": "stream",
     "text": [
      "  0%|          | 28/21990 [02:31<32:44:01,  5.37s/it]"
     ]
    },
    {
     "name": "stdout",
     "output_type": "stream",
     "text": [
      "(28, 128, 6)\n",
      "torch.Size([1, 128, 50304])\n"
     ]
    },
    {
     "name": "stderr",
     "output_type": "stream",
     "text": [
      "  0%|          | 29/21990 [02:37<32:46:07,  5.37s/it]"
     ]
    },
    {
     "name": "stdout",
     "output_type": "stream",
     "text": [
      "(29, 128, 6)\n",
      "torch.Size([1, 128, 50304])\n"
     ]
    },
    {
     "name": "stderr",
     "output_type": "stream",
     "text": [
      "  0%|          | 30/21990 [02:42<32:45:48,  5.37s/it]"
     ]
    },
    {
     "name": "stdout",
     "output_type": "stream",
     "text": [
      "(30, 128, 6)\n",
      "torch.Size([1, 128, 50304])\n"
     ]
    },
    {
     "name": "stderr",
     "output_type": "stream",
     "text": [
      "  0%|          | 31/21990 [02:47<32:41:57,  5.36s/it]"
     ]
    },
    {
     "name": "stdout",
     "output_type": "stream",
     "text": [
      "(31, 128, 6)\n",
      "torch.Size([1, 128, 50304])\n"
     ]
    },
    {
     "name": "stderr",
     "output_type": "stream",
     "text": [
      "  0%|          | 32/21990 [02:53<32:34:35,  5.34s/it]"
     ]
    },
    {
     "name": "stdout",
     "output_type": "stream",
     "text": [
      "(32, 128, 6)\n",
      "torch.Size([1, 128, 50304])\n"
     ]
    },
    {
     "name": "stderr",
     "output_type": "stream",
     "text": [
      "  0%|          | 33/21990 [02:58<32:36:04,  5.35s/it]"
     ]
    },
    {
     "name": "stdout",
     "output_type": "stream",
     "text": [
      "(33, 128, 6)\n",
      "torch.Size([1, 128, 50304])\n"
     ]
    },
    {
     "name": "stderr",
     "output_type": "stream",
     "text": [
      "  0%|          | 34/21990 [03:03<32:34:13,  5.34s/it]"
     ]
    },
    {
     "name": "stdout",
     "output_type": "stream",
     "text": [
      "(34, 128, 6)\n",
      "torch.Size([1, 128, 50304])\n"
     ]
    },
    {
     "name": "stderr",
     "output_type": "stream",
     "text": [
      "  0%|          | 35/21990 [03:09<32:37:38,  5.35s/it]"
     ]
    },
    {
     "name": "stdout",
     "output_type": "stream",
     "text": [
      "(35, 128, 6)\n",
      "torch.Size([1, 128, 50304])\n"
     ]
    },
    {
     "name": "stderr",
     "output_type": "stream",
     "text": [
      "  0%|          | 36/21990 [03:14<32:50:04,  5.38s/it]"
     ]
    },
    {
     "name": "stdout",
     "output_type": "stream",
     "text": [
      "(36, 128, 6)\n",
      "torch.Size([1, 128, 50304])\n"
     ]
    },
    {
     "name": "stderr",
     "output_type": "stream",
     "text": [
      "  0%|          | 37/21990 [03:20<32:54:16,  5.40s/it]"
     ]
    },
    {
     "name": "stdout",
     "output_type": "stream",
     "text": [
      "(37, 128, 6)\n",
      "torch.Size([1, 128, 50304])\n"
     ]
    },
    {
     "name": "stderr",
     "output_type": "stream",
     "text": [
      "  0%|          | 38/21990 [03:25<32:48:15,  5.38s/it]"
     ]
    },
    {
     "name": "stdout",
     "output_type": "stream",
     "text": [
      "(38, 128, 6)\n",
      "torch.Size([1, 128, 50304])\n"
     ]
    },
    {
     "name": "stderr",
     "output_type": "stream",
     "text": [
      "  0%|          | 39/21990 [03:30<32:44:36,  5.37s/it]"
     ]
    },
    {
     "name": "stdout",
     "output_type": "stream",
     "text": [
      "(39, 128, 6)\n",
      "torch.Size([1, 128, 50304])\n"
     ]
    },
    {
     "name": "stderr",
     "output_type": "stream",
     "text": [
      "  0%|          | 40/21990 [03:36<32:40:42,  5.36s/it]"
     ]
    },
    {
     "name": "stdout",
     "output_type": "stream",
     "text": [
      "(40, 128, 6)\n",
      "torch.Size([1, 128, 50304])\n"
     ]
    },
    {
     "name": "stderr",
     "output_type": "stream",
     "text": [
      "  0%|          | 41/21990 [03:41<32:45:18,  5.37s/it]"
     ]
    },
    {
     "name": "stdout",
     "output_type": "stream",
     "text": [
      "(41, 128, 6)\n",
      "torch.Size([1, 128, 50304])\n"
     ]
    },
    {
     "name": "stderr",
     "output_type": "stream",
     "text": [
      "  0%|          | 42/21990 [03:46<32:43:02,  5.37s/it]"
     ]
    },
    {
     "name": "stdout",
     "output_type": "stream",
     "text": [
      "(42, 128, 6)\n",
      "torch.Size([1, 128, 50304])\n"
     ]
    },
    {
     "name": "stderr",
     "output_type": "stream",
     "text": [
      "  0%|          | 43/21990 [03:52<32:47:44,  5.38s/it]"
     ]
    },
    {
     "name": "stdout",
     "output_type": "stream",
     "text": [
      "(43, 128, 6)\n",
      "torch.Size([1, 128, 50304])\n"
     ]
    },
    {
     "name": "stderr",
     "output_type": "stream",
     "text": [
      "  0%|          | 44/21990 [03:57<32:46:58,  5.38s/it]"
     ]
    },
    {
     "name": "stdout",
     "output_type": "stream",
     "text": [
      "(44, 128, 6)\n",
      "torch.Size([1, 128, 50304])\n"
     ]
    },
    {
     "name": "stderr",
     "output_type": "stream",
     "text": [
      "  0%|          | 45/21990 [04:03<32:43:44,  5.37s/it]"
     ]
    },
    {
     "name": "stdout",
     "output_type": "stream",
     "text": [
      "(45, 128, 6)\n",
      "torch.Size([1, 128, 50304])\n"
     ]
    },
    {
     "name": "stderr",
     "output_type": "stream",
     "text": [
      "  0%|          | 46/21990 [04:08<32:39:26,  5.36s/it]"
     ]
    },
    {
     "name": "stdout",
     "output_type": "stream",
     "text": [
      "(46, 128, 6)\n",
      "torch.Size([1, 128, 50304])\n"
     ]
    },
    {
     "name": "stderr",
     "output_type": "stream",
     "text": [
      "  0%|          | 47/21990 [04:13<32:41:48,  5.36s/it]"
     ]
    },
    {
     "name": "stdout",
     "output_type": "stream",
     "text": [
      "(47, 128, 6)\n",
      "torch.Size([1, 128, 50304])\n"
     ]
    },
    {
     "name": "stderr",
     "output_type": "stream",
     "text": [
      "  0%|          | 48/21990 [04:19<32:55:08,  5.40s/it]"
     ]
    },
    {
     "name": "stdout",
     "output_type": "stream",
     "text": [
      "(48, 128, 6)\n",
      "torch.Size([1, 128, 50304])\n"
     ]
    },
    {
     "name": "stderr",
     "output_type": "stream",
     "text": [
      "  0%|          | 49/21990 [04:24<32:47:41,  5.38s/it]"
     ]
    },
    {
     "name": "stdout",
     "output_type": "stream",
     "text": [
      "(49, 128, 6)\n",
      "torch.Size([1, 128, 50304])\n"
     ]
    },
    {
     "name": "stderr",
     "output_type": "stream",
     "text": [
      "  0%|          | 50/21990 [04:30<32:49:41,  5.39s/it]"
     ]
    },
    {
     "name": "stdout",
     "output_type": "stream",
     "text": [
      "(50, 128, 6)\n",
      "torch.Size([1, 128, 50304])\n"
     ]
    },
    {
     "name": "stderr",
     "output_type": "stream",
     "text": [
      "  0%|          | 50/21990 [04:35<33:34:40,  5.51s/it]"
     ]
    },
    {
     "name": "stdout",
     "output_type": "stream",
     "text": [
      "(51, 128, 6)\n"
     ]
    },
    {
     "name": "stderr",
     "output_type": "stream",
     "text": [
      "\n"
     ]
    },
    {
     "data": {
      "text/plain": [
       "<function matplotlib.pyplot.close(fig: \"None | int | str | Figure | Literal['all']\" = None) -> 'None'>"
      ]
     },
     "execution_count": 10,
     "metadata": {},
     "output_type": "execute_result"
    },
    {
     "data": {
      "image/png": "[encoded data removed]",
      "text/plain": [
       "<Figure size 1500x600 with 2 Axes>"
      ]
     },
     "metadata": {},
     "output_type": "display_data"
    },
    {
     "ename": "",
     "evalue": "",
     "output_type": "error",
     "traceback": [
      "\u001b[1;31mThe Kernel crashed while executing code in the current cell or a previous cell. \n",
      "\u001b[1;31mPlease review the code in the cell(s) to identify a possible cause of the failure. \n",
      "\u001b[1;31mClick <a href='https://aka.ms/vscodeJupyterKernelCrash'>here</a> for more info. \n",
      "\u001b[1;31mView Jupyter <a href='command:jupyter.viewOutput'>log</a> for further details."
     ]
    }
   ],
   "source": [
    "import torch\n",
    "import numpy as np\n",
    "import matplotlib.pyplot as plt\n",
    "import seaborn as sns\n",
    "from transformers import AutoModelForCausalLM, AutoTokenizer\n",
    "from imports import *\n",
    "from dataset import *\n",
    "\n",
    "# Load the Pythia model and tokenizer\n",
    "model = AutoModelForCausalLM.from_pretrained('EleutherAI/pythia-70m')\n",
    "tokenizer = AutoTokenizer.from_pretrained('EleutherAI/pythia-70m')\n",
    "tokenizer.pad_token = tokenizer.eos_token\n",
    "\n",
    "train_data, val_data = inspect_data(data)\n",
    "\n",
    "# Sample input\n",
    "input_text = 'One day, a little girl named Lily found a needle in her room. She knew it was difficult to play with it because it was sharp. Lily wanted to share the needle with her mom, so she could sew a button on her shirt. Lily went to her mom and said, \"Mom, I found this needle. Can you share it with me and sew my shirt?\" Her mom smiled and said, \"Yes, Lily, we can share the needle and fix your shirt.\" Together, they shared the needle and sewed the button on Lilys shirt. It was not difficult for them because they were sharing and helping each other. After they finished, Lily thanked her mom for sharing the needle and fixing her shirt. They both felt happy because they had shared and worked together.'\n",
    "# inputs = tokenizer(input_text, return_tensors=\"pt\")\n",
    "\n",
    "\n",
    "# Define a list to store gradients per token\n",
    "\n",
    "\n",
    "# Ensure the model is in evaluation mode\n",
    "# model.eval()\n",
    "\n",
    "final_data = []\n",
    "\n",
    "\n",
    "for index, data in enumerate(tqdm(val_data[\"text\"])):\n",
    "    \n",
    "    token_gradients = []\n",
    "    \n",
    "    inputs = tokenizer(data, return_tensors=\"pt\", padding='max_length', max_length=128, truncation=True)\n",
    "\n",
    "    # Get the outputs and compute loss\n",
    "    outputs = model(**inputs)\n",
    "    logits = outputs.logits\n",
    "    loss = logits.sum()  # Example loss\n",
    "\n",
    "    print(logits.shape)\n",
    "\n",
    "    # Iterate over each token\n",
    "    for token_idx in range(inputs[\"input_ids\"].shape[1]):  # Loop over the sequence length (tokens)\n",
    "        model.zero_grad()  # Clear any previous gradients\n",
    "        \n",
    "        # Compute loss only for this specific token's contribution\n",
    "        # Modify this if needed to focus on the exact component of the loss related to the token\n",
    "        token_loss = logits[0, token_idx, :].sum()\n",
    "        \n",
    "        # Perform backward pass\n",
    "        token_loss.backward(retain_graph=True)  # retain_graph=True allows subsequent backward passes\n",
    "        \n",
    "        # Collect the gradient of the specific parameter for this token\n",
    "        gradients = []\n",
    "        for i in range(6):\n",
    "            layer = model.gpt_neox.layers[i].attention.dense  # Access the specific layer/parameter (adapted to Pythia)\n",
    "            param_grad = layer.weight.grad.clone().view(-1)  # Clone and reshape the gradient\n",
    "            gradients.append(param_grad.unsqueeze(0))  # Append the gradient for this token\n",
    "\n",
    "        # Convert gradients to a tensor and add to the list\n",
    "        token_gradients.append(torch.cat(gradients, dim=0))  # Shape: (layer_count, output_dim)\n",
    "\n",
    "    # Convert token gradients to a tensor for visualization\n",
    "    token_gradients_tensor = torch.stack(token_gradients)  # Shape: (seq_len, layer_count, output_dim)\n",
    "\n",
    "    # Compute the average gradient norm across layers for visualization\n",
    "    average_gradients_tensor = torch.log(token_gradients_tensor.norm(dim=2))  # Shape: (seq_len, layer_count)\n",
    "\n",
    "    final_data.append(average_gradients_tensor)\n",
    "\n",
    "    print(np.array(final_data).shape)\n",
    "\n",
    "    if index == 50:\n",
    "        break\n",
    "\n",
    "\n",
    "# Visualize the gradients using a heatmap\n",
    "plt.figure(figsize=(15, 6))\n",
    "sns.heatmap(np.mean(np.array(final_data), axis = 0).T, cmap='viridis', cbar=True, yticklabels=range(6), xticklabels=range(average_gradients_tensor.size(0)))\n",
    "plt.xlabel('Token Index')\n",
    "plt.ylabel('Layer Index')\n",
    "plt.title('Token-wise Gradient Norms Across Layers for attention.dense on log scale')\n",
    "plt.savefig(\"Pythia_Attention_Grad_50_samples.png\")\n",
    "plt.close"
   ]
  },
  {
   "cell_type": "code",
   "execution_count": null,
   "metadata": {},
   "outputs": [],
   "source": []
  }
 ],
 "metadata": {
  "kernelspec": {
   "display_name": "transit",
   "language": "python",
   "name": "python3"
  },
  "language_info": {
   "codemirror_mode": {
    "name": "ipython",
    "version": 3
   },
   "file_extension": ".py",
   "mimetype": "text/x-python",
   "name": "python",
   "nbconvert_exporter": "python",
   "pygments_lexer": "ipython3",
   "version": "3.11.9"
  }
 },
 "nbformat": 4,
 "nbformat_minor": 2
}
