{
 "cells": [
  {
   "cell_type": "code",
   "execution_count": 18,
   "metadata": {},
   "outputs": [
    {
     "name": "stdout",
     "output_type": "stream",
     "text": [
      "tensor([3.7199, 3.7495, 3.3422])\n"
     ]
    }
   ],
   "source": [
    "# Tutoring myself with pytorch\n",
    "\n",
    "import torch as t\n",
    "\n",
    "x = t.rand(3, requires_grad = True)\n",
    "\n",
    "y = x+2\n",
    "\n",
    "z = y*y*2\n",
    "\n",
    "z = z.mean()\n",
    "y.retain_grad()\n",
    "z.backward() # dz/dx\n",
    "\n",
    "print(y.grad)"
   ]
  },
  {
   "cell_type": "code",
   "execution_count": 1,
   "metadata": {},
   "outputs": [
    {
     "name": "stderr",
     "output_type": "stream",
     "text": [
      "/Users/maheepchaudhary/miniforge3/envs/transit/lib/python3.11/site-packages/tqdm/auto.py:21: TqdmWarning: IProgress not found. Please update jupyter and ipywidgets. See https://ipywidgets.readthedocs.io/en/stable/user_install.html\n",
      "  from .autonotebook import tqdm as notebook_tqdm\n",
      "Using the latest cached version of the dataset since roneneldan/TinyStories couldn't be found on the Hugging Face Hub\n",
      "Found the latest cached dataset configuration 'default' at /Users/maheepchaudhary/.cache/huggingface/datasets/roneneldan___tiny_stories/default/0.0.0/f54c09fd23315a6f9c86f9dc80f725de7d8f9c64 (last modified on Sun Sep  8 14:32:36 2024).\n"
     ]
    },
    {
     "name": "stdout",
     "output_type": "stream",
     "text": [
      "GPTNeoXForCausalLM(\n",
      "  (gpt_neox): GPTNeoXModel(\n",
      "    (embed_in): Embedding(50304, 512)\n",
      "    (emb_dropout): Dropout(p=0.0, inplace=False)\n",
      "    (layers): ModuleList(\n",
      "      (0-5): 6 x GPTNeoXLayer(\n",
      "        (input_layernorm): LayerNorm((512,), eps=1e-05, elementwise_affine=True)\n",
      "        (post_attention_layernorm): LayerNorm((512,), eps=1e-05, elementwise_affine=True)\n",
      "        (post_attention_dropout): Dropout(p=0.0, inplace=False)\n",
      "        (post_mlp_dropout): Dropout(p=0.0, inplace=False)\n",
      "        (attention): GPTNeoXSdpaAttention(\n",
      "          (rotary_emb): GPTNeoXRotaryEmbedding()\n",
      "          (query_key_value): Linear(in_features=512, out_features=1536, bias=True)\n",
      "          (dense): Linear(in_features=512, out_features=512, bias=True)\n",
      "          (attention_dropout): Dropout(p=0.0, inplace=False)\n",
      "        )\n",
      "        (mlp): GPTNeoXMLP(\n",
      "          (dense_h_to_4h): Linear(in_features=512, out_features=2048, bias=True)\n",
      "          (dense_4h_to_h): Linear(in_features=2048, out_features=512, bias=True)\n",
      "          (act): GELUActivation()\n",
      "        )\n",
      "      )\n",
      "    )\n",
      "    (final_layer_norm): LayerNorm((512,), eps=1e-05, elementwise_affine=True)\n",
      "  )\n",
      "  (embed_out): Linear(in_features=512, out_features=50304, bias=False)\n",
      "  (generator): WrapperModule()\n",
      ")\n"
     ]
    },
    {
     "name": "stderr",
     "output_type": "stream",
     "text": [
      "/Users/maheepchaudhary/miniforge3/envs/transit/lib/python3.11/site-packages/transformers/tokenization_utils_base.py:1601: FutureWarning: `clean_up_tokenization_spaces` was not set. It will be set to `True` by default. This behavior will be depracted in transformers v4.45, and will be then set to `False` by default. For more details check this issue: https://github.com/huggingface/transformers/issues/31884\n",
      "  warnings.warn(\n"
     ]
    }
   ],
   "source": [
    "from imports import *\n",
    "\n",
    "with open(\"data/pythia_val_data_b16.pkl\", \"rb\") as f:\n",
    "    val_dataloader = pickle.load(f)\n",
    "\n",
    "model = LanguageModel(\"EleutherAI/pythia-70m\", device_map = \"cpu\")\n",
    "print(model)\n",
    "# with model.trace(inputs[\"input_ids\"]) as tracer:\n",
    "    \n",
    "#     output_mlp = model.gpt_neox.layers[0].mlp.dense_4h_to_h.output.grad.save()\n",
    "#     output_attn = model.gpt_neox.layers[0].attention.dense.output.grad.save()\n",
    "    \n",
    "    \n",
    "#     model.output.logits.sum().backward()\n",
    "\n",
    "# print(output_mlp)\n",
    "# print();print()\n",
    "# print(output_attn)"
   ]
  },
  {
   "cell_type": "code",
   "execution_count": 5,
   "metadata": {},
   "outputs": [
    {
     "data": {
      "text/plain": [
       "GPTNeoXForCausalLM(\n",
       "  (gpt_neox): GPTNeoXModel(\n",
       "    (embed_in): Embedding(50304, 512)\n",
       "    (emb_dropout): Dropout(p=0.0, inplace=False)\n",
       "    (layers): ModuleList(\n",
       "      (0-5): 6 x GPTNeoXLayer(\n",
       "        (input_layernorm): LayerNorm((512,), eps=1e-05, elementwise_affine=True)\n",
       "        (post_attention_layernorm): LayerNorm((512,), eps=1e-05, elementwise_affine=True)\n",
       "        (post_attention_dropout): Dropout(p=0.0, inplace=False)\n",
       "        (post_mlp_dropout): Dropout(p=0.0, inplace=False)\n",
       "        (attention): GPTNeoXSdpaAttention(\n",
       "          (rotary_emb): GPTNeoXRotaryEmbedding()\n",
       "          (query_key_value): Linear(in_features=512, out_features=1536, bias=True)\n",
       "          (dense): Linear(in_features=512, out_features=512, bias=True)\n",
       "          (attention_dropout): Dropout(p=0.0, inplace=False)\n",
       "        )\n",
       "        (mlp): GPTNeoXMLP(\n",
       "          (dense_h_to_4h): Linear(in_features=512, out_features=2048, bias=True)\n",
       "          (dense_4h_to_h): Linear(in_features=2048, out_features=512, bias=True)\n",
       "          (act): GELUActivation()\n",
       "        )\n",
       "      )\n",
       "    )\n",
       "    (final_layer_norm): LayerNorm((512,), eps=1e-05, elementwise_affine=True)\n",
       "  )\n",
       "  (embed_out): Linear(in_features=512, out_features=50304, bias=False)\n",
       "  (generator): WrapperModule()\n",
       ")"
      ]
     },
     "execution_count": 5,
     "metadata": {},
     "output_type": "execute_result"
    }
   ],
   "source": [
    "model"
   ]
  },
  {
   "cell_type": "code",
   "execution_count": 14,
   "metadata": {},
   "outputs": [
    {
     "name": "stdout",
     "output_type": "stream",
     "text": [
      "'Training set size: 2119719'\n",
      "'Validation set size: 21990'\n",
      "['text']\n",
      "{'text': Value(dtype='string', id=None)}\n",
      "\n",
      "'---------------------------------'\n",
      "\n"
     ]
    },
    {
     "name": "stderr",
     "output_type": "stream",
     "text": [
      "  0%|          | 10/21990 [01:26<52:49:14,  8.65s/it]\n"
     ]
    },
    {
     "data": {
      "text/plain": [
       "<function matplotlib.pyplot.close(fig: \"None | int | str | Figure | Literal['all']\" = None) -> 'None'>"
      ]
     },
     "execution_count": 14,
     "metadata": {},
     "output_type": "execute_result"
    },
    {
     "data": {
      "image/png": "[encoded data removed]",
      "text/plain": [
       "<Figure size 1500x600 with 2 Axes>"
      ]
     },
     "metadata": {},
     "output_type": "display_data"
    }
   ],
   "source": [
    "import torch\n",
    "import numpy as np\n",
    "import matplotlib.pyplot as plt\n",
    "import seaborn as sns\n",
    "from transformers import AutoModelForCausalLM, AutoTokenizer\n",
    "from imports import *\n",
    "from dataset import *\n",
    "\n",
    "# Load the Pythia model and tokenizer\n",
    "model = AutoModelForCausalLM.from_pretrained('EleutherAI/pythia-70m')\n",
    "tokenizer = AutoTokenizer.from_pretrained('EleutherAI/pythia-70m')\n",
    "tokenizer.pad_token = tokenizer.eos_token\n",
    "data = load_dataset(\"roneneldan/TinyStories\")\n",
    "train_data, val_data = inspect_data(data)\n",
    "\n",
    "# Sample input\n",
    "input_text = 'One day, a little girl named Lily found a needle in her room. She knew it was difficult to play with it because it was sharp. Lily wanted to share the needle with her mom, so she could sew a button on her shirt. Lily went to her mom and said, \"Mom, I found this needle. Can you share it with me and sew my shirt?\" Her mom smiled and said, \"Yes, Lily, we can share the needle and fix your shirt.\" Together, they shared the needle and sewed the button on Lilys shirt. It was not difficult for them because they were sharing and helping each other. After they finished, Lily thanked her mom for sharing the needle and fixing her shirt. They both felt happy because they had shared and worked together.'\n",
    "# inputs = tokenizer(input_text, return_tensors=\"pt\")\n",
    "\n",
    "\n",
    "# Define a list to store gradients per token\n",
    "\n",
    "\n",
    "# Ensure the model is in evaluation mode\n",
    "# model.eval()\n",
    "\n",
    "final_data = []\n",
    "\n",
    "\n",
    "for index, data in enumerate(tqdm(val_data[\"text\"])):\n",
    "    \n",
    "    token_gradients = []\n",
    "    \n",
    "    inputs = tokenizer(data, return_tensors=\"pt\", padding='max_length', max_length=128, truncation=True)\n",
    "\n",
    "    # Get the outputs and compute loss\n",
    "    outputs = model(**inputs)\n",
    "    logits = outputs.logits\n",
    "    loss = logits.sum()  # Example loss\n",
    "\n",
    "    # Iterate over each token\n",
    "    for token_idx in range(inputs[\"input_ids\"].shape[1]):  # Loop over the sequence length (tokens)\n",
    "        model.zero_grad()  # Clear any previous gradients\n",
    "        \n",
    "        # Compute loss only for this specific token's contribution\n",
    "        # Modify this if needed to focus on the exact component of the loss related to the token\n",
    "        token_loss = logits[0, token_idx, :].sum()\n",
    "        \n",
    "        # Perform backward pass\n",
    "        token_loss.backward(retain_graph=True)  # retain_graph=True allows subsequent backward passes\n",
    "        \n",
    "        # Collect the gradient of the specific parameter for this token\n",
    "        gradients = []\n",
    "        for i in range(6):\n",
    "            layer = model.gpt_neox.layers[i].mlp.dense_4h_to_h  # Access the specific layer/parameter (adapted to Pythia)\n",
    "            param_grad = layer.weight.grad.clone().view(-1)  # Clone and reshape the gradient\n",
    "            gradients.append(param_grad.unsqueeze(0))  # Append the gradient for this token\n",
    "\n",
    "        # Convert gradients to a tensor and add to the list\n",
    "        token_gradients.append(torch.cat(gradients, dim=0))  # Shape: (layer_count, output_dim)\n",
    "\n",
    "    # Convert token gradients to a tensor for visualization\n",
    "    token_gradients_tensor = torch.stack(token_gradients)  # Shape: (seq_len, layer_count, output_dim)\n",
    "\n",
    "    # Compute the average gradient norm across layers for visualization\n",
    "    average_gradients_tensor = torch.log(token_gradients_tensor.norm(dim=2))  # Shape: (seq_len, layer_count)\n",
    "\n",
    "    final_data.append(average_gradients_tensor)\n",
    "\n",
    "    if index == 10:\n",
    "        break\n",
    "\n",
    "\n",
    "# Visualize the gradients using a heatmap\n",
    "plt.figure(figsize=(15, 6))\n",
    "sns.heatmap(np.mean(np.array(final_data), axis = 0).T, cmap='viridis', cbar=True, yticklabels=range(6), xticklabels=range(average_gradients_tensor.size(0)))\n",
    "plt.xlabel('Token Index')\n",
    "plt.ylabel('Layer Index')\n",
    "plt.title('Token-wise Gradient Norms Across Layers for mlp.dense_4h_to_h on log scale')\n",
    "plt.savefig(\"Pythia_MLP_Grad_50_samples.png\")\n",
    "plt.close"
   ]
  },
  {
   "cell_type": "code",
   "execution_count": 16,
   "metadata": {},
   "outputs": [
    {
     "name": "stdout",
     "output_type": "stream",
     "text": [
      "'Training set size: 2119719'\n",
      "'Validation set size: 21990'\n",
      "['text']\n",
      "{'text': Value(dtype='string', id=None)}\n",
      "\n",
      "'---------------------------------'\n",
      "\n"
     ]
    },
    {
     "name": "stderr",
     "output_type": "stream",
     "text": [
      "  0%|          | 10/21990 [00:00<27:33, 13.29it/s]\n",
      "/var/folders/_x/mkf1szd12yv28px5ztl_sjjr0000gn/T/ipykernel_93761/9358588.py:77: UserWarning: Adding colorbar to a different Figure <Figure size 1000x500 with 3 Axes> than <Figure size 1000x500 with 3 Axes> which fig.colorbar is called on.\n",
      "  cbar = fig.colorbar(cax, ax=ax)\n"
     ]
    },
    {
     "data": {
      "image/png": "[encoded data removed]",
      "text/plain": [
       "<Figure size 1000x500 with 4 Axes>"
      ]
     },
     "metadata": {},
     "output_type": "display_data"
    }
   ],
   "source": [
    "import torch\n",
    "import numpy as np\n",
    "import matplotlib.pyplot as plt\n",
    "import seaborn as sns\n",
    "from transformers import AutoModelForCausalLM, AutoTokenizer\n",
    "from imports import *\n",
    "from dataset import *\n",
    "\n",
    "# Load the Pythia model and tokenizer\n",
    "model = AutoModelForCausalLM.from_pretrained('EleutherAI/pythia-70m')\n",
    "tokenizer = AutoTokenizer.from_pretrained('EleutherAI/pythia-70m')\n",
    "tokenizer.pad_token = tokenizer.eos_token\n",
    "\n",
    "train_data, val_data = inspect_data(data)\n",
    "\n",
    "# Sample input\n",
    "input_text = 'One day, a little girl named Lily found a needle in her room. She knew it was difficult to play with it because it was sharp. Lily wanted to share the needle with her mom, so she could sew a button on her shirt. Lily went to her mom and said, \"Mom, I found this needle. Can you share it with me and sew my shirt?\" Her mom smiled and said, \"Yes, Lily, we can share the needle and fix your shirt.\" Together, they shared the needle and sewed the button on Lilys shirt. It was not difficult for them because they were sharing and helping each other. After they finished, Lily thanked her mom for sharing the needle and fixing her shirt. They both felt happy because they had shared and worked together.'\n",
    "# inputs = tokenizer(input_text, return_tensors=\"pt\")\n",
    "\n",
    "\n",
    "# Define a list to store gradients per token\n",
    "\n",
    "\n",
    "# Ensure the model is in evaluation mode\n",
    "# model.eval()\n",
    "\n",
    "final_data = []\n",
    "\n",
    "\n",
    "for index, sample in enumerate(tqdm(val_data[\"text\"])):\n",
    "    \n",
    "    if index == 10:\n",
    "        break\n",
    "    \n",
    "    token_gradients = []\n",
    "    \n",
    "    inputs = tokenizer(sample, return_tensors=\"pt\", padding='max_length', max_length=128, truncation=True)\n",
    "    outputs = model(**inputs)\n",
    "    logits = outputs.logits\n",
    "    loss = logits.sum()\n",
    "\n",
    "    model.zero_grad()  # Zero all gradients initially\n",
    "    loss.backward(retain_graph=True)  # Backprop once for the whole batch\n",
    "    \n",
    "    mlp_layers = [model.gpt_neox.layers[i].mlp.dense_4h_to_h for i in range(6)]\n",
    "\n",
    "    # Iterate over each token\n",
    "    for token_idx in range(inputs[\"input_ids\"].shape[1]):  \n",
    "        # Collect the gradient for each MLP layer\n",
    "        gradients = []\n",
    "        for layer in mlp_layers:\n",
    "            param_grad = layer.weight.grad[token_idx].view(-1)  # Get the gradient for this token\n",
    "            gradients.append(param_grad.unsqueeze(0))  # Append the gradient\n",
    "\n",
    "        # Stack gradients for the token\n",
    "        token_gradients.append(torch.cat(gradients, dim=0))  \n",
    "\n",
    "    # Convert to tensor for visualization\n",
    "    token_gradients_tensor = torch.stack(token_gradients)  \n",
    "    average_gradients_tensor = torch.log(token_gradients_tensor.norm(dim=2))\n",
    "\n",
    "    final_data.append(average_gradients_tensor.cpu())\n",
    "\n",
    "\n",
    "# Visualize the gradients using a heatmap\n",
    "# plt.figure(figsize=(15, 6))\n",
    "# sns.heatmap(np.mean(np.array(final_data), axis=0).T, cmap='viridis', cbar=True, yticklabels=range(6), xticklabels=range(average_gradients_tensor.size(0)))\n",
    "# plt.xlabel('Token Index')\n",
    "# plt.ylabel('Layer Index')\n",
    "# plt.title(f'[pythia-tinystories]Token-wise Gradient for mlp.dense_4h_to_h on log scale')\n",
    "# plt.show()\n",
    "\n",
    "fig, ax = plt.subplots(figsize=(10, 5))  # Set figure size\n",
    "cax = ax.imshow(np.mean(np.array(final_data), axis = 0).T, aspect='auto', cmap='viridis')  # Choose a color map like 'viridis', 'plasma', etc.\n",
    "\n",
    "# Add color bar to indicate the scale\n",
    "cbar = fig.colorbar(cax, ax=ax)\n",
    "\n",
    "# Set labels\n",
    "ax.set_xlabel('Tokens')\n",
    "ax.set_ylabel('Layers')\n",
    "\n",
    "# Add labels to the right side (create twin axes sharing the same y-axis)\n",
    "ax_right = ax.twinx()  \n",
    "ax_right.set_ylabel('Log Scale', rotation=-90, labelpad=15)\n",
    "\n",
    "# Optionally, you can add titles\n",
    "plt.title(f'[pythia-tinystories]Token-wise Gradient for mlp.dense_4h_to_h on log scale')\n",
    "\n",
    "# Show the heatmap\n",
    "plt.show()\n",
    "plt.close()\n"
   ]
  },
  {
   "cell_type": "code",
   "execution_count": 10,
   "metadata": {},
   "outputs": [
    {
     "name": "stderr",
     "output_type": "stream",
     "text": [
      "/Users/maheepchaudhary/miniforge3/envs/transit/lib/python3.11/site-packages/transformers/tokenization_utils_base.py:1601: FutureWarning: `clean_up_tokenization_spaces` was not set. It will be set to `True` by default. This behavior will be depracted in transformers v4.45, and will be then set to `False` by default. For more details check this issue: https://github.com/huggingface/transformers/issues/31884\n",
      "  warnings.warn(\n"
     ]
    },
    {
     "name": "stdout",
     "output_type": "stream",
     "text": [
      "'Training set size: 2119719'\n",
      "'Validation set size: 21990'\n",
      "['text']\n",
      "{'text': Value(dtype='string', id=None)}\n",
      "\n",
      "'---------------------------------'\n",
      "\n"
     ]
    },
    {
     "name": "stderr",
     "output_type": "stream",
     "text": [
      "  0%|          | 0/21990 [00:00<?, ?it/s]"
     ]
    },
    {
     "name": "stdout",
     "output_type": "stream",
     "text": [
      "torch.Size([1, 128, 50304])\n"
     ]
    },
    {
     "name": "stderr",
     "output_type": "stream",
     "text": [
      "  0%|          | 1/21990 [00:05<34:38:30,  5.67s/it]"
     ]
    },
    {
     "name": "stdout",
     "output_type": "stream",
     "text": [
      "(1, 128, 6)\n",
      "torch.Size([1, 128, 50304])\n"
     ]
    },
    {
     "name": "stderr",
     "output_type": "stream",
     "text": [
      "  0%|          | 2/21990 [00:11<34:20:10,  5.62s/it]"
     ]
    },
    {
     "name": "stdout",
     "output_type": "stream",
     "text": [
      "(2, 128, 6)\n",
      "torch.Size([1, 128, 50304])\n"
     ]
    },
    {
     "name": "stderr",
     "output_type": "stream",
     "text": [
      "  0%|          | 3/21990 [00:16<33:39:39,  5.51s/it]"
     ]
    },
    {
     "name": "stdout",
     "output_type": "stream",
     "text": [
      "(3, 128, 6)\n",
      "torch.Size([1, 128, 50304])\n"
     ]
    },
    {
     "name": "stderr",
     "output_type": "stream",
     "text": [
      "  0%|          | 4/21990 [00:22<33:53:25,  5.55s/it]"
     ]
    },
    {
     "name": "stdout",
     "output_type": "stream",
     "text": [
      "(4, 128, 6)\n",
      "torch.Size([1, 128, 50304])\n"
     ]
    },
    {
     "name": "stderr",
     "output_type": "stream",
     "text": [
      "  0%|          | 5/21990 [00:27<33:44:50,  5.53s/it]"
     ]
    },
    {
     "name": "stdout",
     "output_type": "stream",
     "text": [
      "(5, 128, 6)\n",
      "torch.Size([1, 128, 50304])\n"
     ]
    },
    {
     "name": "stderr",
     "output_type": "stream",
     "text": [
      "  0%|          | 6/21990 [00:33<33:32:29,  5.49s/it]"
     ]
    },
    {
     "name": "stdout",
     "output_type": "stream",
     "text": [
      "(6, 128, 6)\n",
      "torch.Size([1, 128, 50304])\n"
     ]
    },
    {
     "name": "stderr",
     "output_type": "stream",
     "text": [
      "  0%|          | 7/21990 [00:38<33:09:46,  5.43s/it]"
     ]
    },
    {
     "name": "stdout",
     "output_type": "stream",
     "text": [
      "(7, 128, 6)\n",
      "torch.Size([1, 128, 50304])\n"
     ]
    },
    {
     "name": "stderr",
     "output_type": "stream",
     "text": [
      "  0%|          | 8/21990 [00:43<32:57:02,  5.40s/it]"
     ]
    },
    {
     "name": "stdout",
     "output_type": "stream",
     "text": [
      "(8, 128, 6)\n",
      "torch.Size([1, 128, 50304])\n"
     ]
    },
    {
     "name": "stderr",
     "output_type": "stream",
     "text": [
      "  0%|          | 9/21990 [00:49<32:50:51,  5.38s/it]"
     ]
    },
    {
     "name": "stdout",
     "output_type": "stream",
     "text": [
      "(9, 128, 6)\n",
      "torch.Size([1, 128, 50304])\n"
     ]
    },
    {
     "name": "stderr",
     "output_type": "stream",
     "text": [
      "  0%|          | 10/21990 [00:54<32:51:43,  5.38s/it]"
     ]
    },
    {
     "name": "stdout",
     "output_type": "stream",
     "text": [
      "(10, 128, 6)\n",
      "torch.Size([1, 128, 50304])\n"
     ]
    },
    {
     "name": "stderr",
     "output_type": "stream",
     "text": [
      "  0%|          | 11/21990 [00:59<32:52:29,  5.38s/it]"
     ]
    },
    {
     "name": "stdout",
     "output_type": "stream",
     "text": [
      "(11, 128, 6)\n",
      "torch.Size([1, 128, 50304])\n"
     ]
    },
    {
     "name": "stderr",
     "output_type": "stream",
     "text": [
      "  0%|          | 12/21990 [01:05<32:59:51,  5.41s/it]"
     ]
    },
    {
     "name": "stdout",
     "output_type": "stream",
     "text": [
      "(12, 128, 6)\n",
      "torch.Size([1, 128, 50304])\n"
     ]
    },
    {
     "name": "stderr",
     "output_type": "stream",
     "text": [
      "  0%|          | 13/21990 [01:11<33:34:49,  5.50s/it]"
     ]
    },
    {
     "name": "stdout",
     "output_type": "stream",
     "text": [
      "(13, 128, 6)\n",
      "torch.Size([1, 128, 50304])\n"
     ]
    },
    {
     "name": "stderr",
     "output_type": "stream",
     "text": [
      "  0%|          | 14/21990 [01:16<33:35:21,  5.50s/it]"
     ]
    },
    {
     "name": "stdout",
     "output_type": "stream",
     "text": [
      "(14, 128, 6)\n",
      "torch.Size([1, 128, 50304])\n"
     ]
    },
    {
     "name": "stderr",
     "output_type": "stream",
     "text": [
      "  0%|          | 15/21990 [01:22<33:52:25,  5.55s/it]"
     ]
    },
    {
     "name": "stdout",
     "output_type": "stream",
     "text": [
      "(15, 128, 6)\n",
      "torch.Size([1, 128, 50304])\n"
     ]
    },
    {
     "name": "stderr",
     "output_type": "stream",
     "text": [
      "  0%|          | 16/21990 [01:27<33:47:12,  5.54s/it]"
     ]
    },
    {
     "name": "stdout",
     "output_type": "stream",
     "text": [
      "(16, 128, 6)\n",
      "torch.Size([1, 128, 50304])\n"
     ]
    },
    {
     "name": "stderr",
     "output_type": "stream",
     "text": [
      "  0%|          | 17/21990 [01:33<33:36:16,  5.51s/it]"
     ]
    },
    {
     "name": "stdout",
     "output_type": "stream",
     "text": [
      "(17, 128, 6)\n",
      "torch.Size([1, 128, 50304])\n"
     ]
    },
    {
     "name": "stderr",
     "output_type": "stream",
     "text": [
      "  0%|          | 18/21990 [01:38<33:23:00,  5.47s/it]"
     ]
    },
    {
     "name": "stdout",
     "output_type": "stream",
     "text": [
      "(18, 128, 6)\n",
      "torch.Size([1, 128, 50304])\n"
     ]
    },
    {
     "name": "stderr",
     "output_type": "stream",
     "text": [
      "  0%|          | 19/21990 [01:43<33:10:10,  5.43s/it]"
     ]
    },
    {
     "name": "stdout",
     "output_type": "stream",
     "text": [
      "(19, 128, 6)\n",
      "torch.Size([1, 128, 50304])\n"
     ]
    },
    {
     "name": "stderr",
     "output_type": "stream",
     "text": [
      "  0%|          | 20/21990 [01:49<33:01:04,  5.41s/it]"
     ]
    },
    {
     "name": "stdout",
     "output_type": "stream",
     "text": [
      "(20, 128, 6)\n",
      "torch.Size([1, 128, 50304])\n"
     ]
    },
    {
     "name": "stderr",
     "output_type": "stream",
     "text": [
      "  0%|          | 21/21990 [01:54<32:48:03,  5.38s/it]"
     ]
    },
    {
     "name": "stdout",
     "output_type": "stream",
     "text": [
      "(21, 128, 6)\n",
      "torch.Size([1, 128, 50304])\n"
     ]
    },
    {
     "name": "stderr",
     "output_type": "stream",
     "text": [
      "  0%|          | 22/21990 [01:59<32:34:36,  5.34s/it]"
     ]
    },
    {
     "name": "stdout",
     "output_type": "stream",
     "text": [
      "(22, 128, 6)\n",
      "torch.Size([1, 128, 50304])\n"
     ]
    },
    {
     "name": "stderr",
     "output_type": "stream",
     "text": [
      "  0%|          | 23/21990 [02:05<32:32:18,  5.33s/it]"
     ]
    },
    {
     "name": "stdout",
     "output_type": "stream",
     "text": [
      "(23, 128, 6)\n",
      "torch.Size([1, 128, 50304])\n"
     ]
    },
    {
     "name": "stderr",
     "output_type": "stream",
     "text": [
      "  0%|          | 24/21990 [02:10<32:31:39,  5.33s/it]"
     ]
    },
    {
     "name": "stdout",
     "output_type": "stream",
     "text": [
      "(24, 128, 6)\n",
      "torch.Size([1, 128, 50304])\n"
     ]
    },
    {
     "name": "stderr",
     "output_type": "stream",
     "text": [
      "  0%|          | 25/21990 [02:15<32:28:10,  5.32s/it]"
     ]
    },
    {
     "name": "stdout",
     "output_type": "stream",
     "text": [
      "(25, 128, 6)\n",
      "torch.Size([1, 128, 50304])\n"
     ]
    },
    {
     "name": "stderr",
     "output_type": "stream",
     "text": [
      "  0%|          | 26/21990 [02:21<32:29:00,  5.32s/it]"
     ]
    },
    {
     "name": "stdout",
     "output_type": "stream",
     "text": [
      "(26, 128, 6)\n",
      "torch.Size([1, 128, 50304])\n"
     ]
    },
    {
     "name": "stderr",
     "output_type": "stream",
     "text": [
      "  0%|          | 27/21990 [02:26<32:23:12,  5.31s/it]"
     ]
    },
    {
     "name": "stdout",
     "output_type": "stream",
     "text": [
      "(27, 128, 6)\n",
      "torch.Size([1, 128, 50304])\n"
     ]
    },
    {
     "name": "stderr",
     "output_type": "stream",
     "text": [
      "  0%|          | 28/21990 [02:31<32:44:01,  5.37s/it]"
     ]
    },
    {
     "name": "stdout",
     "output_type": "stream",
     "text": [
      "(28, 128, 6)\n",
      "torch.Size([1, 128, 50304])\n"
     ]
    },
    {
     "name": "stderr",
     "output_type": "stream",
     "text": [
      "  0%|          | 29/21990 [02:37<32:46:07,  5.37s/it]"
     ]
    },
    {
     "name": "stdout",
     "output_type": "stream",
     "text": [
      "(29, 128, 6)\n",
      "torch.Size([1, 128, 50304])\n"
     ]
    },
    {
     "name": "stderr",
     "output_type": "stream",
     "text": [
      "  0%|          | 30/21990 [02:42<32:45:48,  5.37s/it]"
     ]
    },
    {
     "name": "stdout",
     "output_type": "stream",
     "text": [
      "(30, 128, 6)\n",
      "torch.Size([1, 128, 50304])\n"
     ]
    },
    {
     "name": "stderr",
     "output_type": "stream",
     "text": [
      "  0%|          | 31/21990 [02:47<32:41:57,  5.36s/it]"
     ]
    },
    {
     "name": "stdout",
     "output_type": "stream",
     "text": [
      "(31, 128, 6)\n",
      "torch.Size([1, 128, 50304])\n"
     ]
    },
    {
     "name": "stderr",
     "output_type": "stream",
     "text": [
      "  0%|          | 32/21990 [02:53<32:34:35,  5.34s/it]"
     ]
    },
    {
     "name": "stdout",
     "output_type": "stream",
     "text": [
      "(32, 128, 6)\n",
      "torch.Size([1, 128, 50304])\n"
     ]
    },
    {
     "name": "stderr",
     "output_type": "stream",
     "text": [
      "  0%|          | 33/21990 [02:58<32:36:04,  5.35s/it]"
     ]
    },
    {
     "name": "stdout",
     "output_type": "stream",
     "text": [
      "(33, 128, 6)\n",
      "torch.Size([1, 128, 50304])\n"
     ]
    },
    {
     "name": "stderr",
     "output_type": "stream",
     "text": [
      "  0%|          | 34/21990 [03:03<32:34:13,  5.34s/it]"
     ]
    },
    {
     "name": "stdout",
     "output_type": "stream",
     "text": [
      "(34, 128, 6)\n",
      "torch.Size([1, 128, 50304])\n"
     ]
    },
    {
     "name": "stderr",
     "output_type": "stream",
     "text": [
      "  0%|          | 35/21990 [03:09<32:37:38,  5.35s/it]"
     ]
    },
    {
     "name": "stdout",
     "output_type": "stream",
     "text": [
      "(35, 128, 6)\n",
      "torch.Size([1, 128, 50304])\n"
     ]
    },
    {
     "name": "stderr",
     "output_type": "stream",
     "text": [
      "  0%|          | 36/21990 [03:14<32:50:04,  5.38s/it]"
     ]
    },
    {
     "name": "stdout",
     "output_type": "stream",
     "text": [
      "(36, 128, 6)\n",
      "torch.Size([1, 128, 50304])\n"
     ]
    },
    {
     "name": "stderr",
     "output_type": "stream",
     "text": [
      "  0%|          | 37/21990 [03:20<32:54:16,  5.40s/it]"
     ]
    },
    {
     "name": "stdout",
     "output_type": "stream",
     "text": [
      "(37, 128, 6)\n",
      "torch.Size([1, 128, 50304])\n"
     ]
    },
    {
     "name": "stderr",
     "output_type": "stream",
     "text": [
      "  0%|          | 38/21990 [03:25<32:48:15,  5.38s/it]"
     ]
    },
    {
     "name": "stdout",
     "output_type": "stream",
     "text": [
      "(38, 128, 6)\n",
      "torch.Size([1, 128, 50304])\n"
     ]
    },
    {
     "name": "stderr",
     "output_type": "stream",
     "text": [
      "  0%|          | 39/21990 [03:30<32:44:36,  5.37s/it]"
     ]
    },
    {
     "name": "stdout",
     "output_type": "stream",
     "text": [
      "(39, 128, 6)\n",
      "torch.Size([1, 128, 50304])\n"
     ]
    },
    {
     "name": "stderr",
     "output_type": "stream",
     "text": [
      "  0%|          | 40/21990 [03:36<32:40:42,  5.36s/it]"
     ]
    },
    {
     "name": "stdout",
     "output_type": "stream",
     "text": [
      "(40, 128, 6)\n",
      "torch.Size([1, 128, 50304])\n"
     ]
    },
    {
     "name": "stderr",
     "output_type": "stream",
     "text": [
      "  0%|          | 41/21990 [03:41<32:45:18,  5.37s/it]"
     ]
    },
    {
     "name": "stdout",
     "output_type": "stream",
     "text": [
      "(41, 128, 6)\n",
      "torch.Size([1, 128, 50304])\n"
     ]
    },
    {
     "name": "stderr",
     "output_type": "stream",
     "text": [
      "  0%|          | 42/21990 [03:46<32:43:02,  5.37s/it]"
     ]
    },
    {
     "name": "stdout",
     "output_type": "stream",
     "text": [
      "(42, 128, 6)\n",
      "torch.Size([1, 128, 50304])\n"
     ]
    },
    {
     "name": "stderr",
     "output_type": "stream",
     "text": [
      "  0%|          | 43/21990 [03:52<32:47:44,  5.38s/it]"
     ]
    },
    {
     "name": "stdout",
     "output_type": "stream",
     "text": [
      "(43, 128, 6)\n",
      "torch.Size([1, 128, 50304])\n"
     ]
    },
    {
     "name": "stderr",
     "output_type": "stream",
     "text": [
      "  0%|          | 44/21990 [03:57<32:46:58,  5.38s/it]"
     ]
    },
    {
     "name": "stdout",
     "output_type": "stream",
     "text": [
      "(44, 128, 6)\n",
      "torch.Size([1, 128, 50304])\n"
     ]
    },
    {
     "name": "stderr",
     "output_type": "stream",
     "text": [
      "  0%|          | 45/21990 [04:03<32:43:44,  5.37s/it]"
     ]
    },
    {
     "name": "stdout",
     "output_type": "stream",
     "text": [
      "(45, 128, 6)\n",
      "torch.Size([1, 128, 50304])\n"
     ]
    },
    {
     "name": "stderr",
     "output_type": "stream",
     "text": [
      "  0%|          | 46/21990 [04:08<32:39:26,  5.36s/it]"
     ]
    },
    {
     "name": "stdout",
     "output_type": "stream",
     "text": [
      "(46, 128, 6)\n",
      "torch.Size([1, 128, 50304])\n"
     ]
    },
    {
     "name": "stderr",
     "output_type": "stream",
     "text": [
      "  0%|          | 47/21990 [04:13<32:41:48,  5.36s/it]"
     ]
    },
    {
     "name": "stdout",
     "output_type": "stream",
     "text": [
      "(47, 128, 6)\n",
      "torch.Size([1, 128, 50304])\n"
     ]
    },
    {
     "name": "stderr",
     "output_type": "stream",
     "text": [
      "  0%|          | 48/21990 [04:19<32:55:08,  5.40s/it]"
     ]
    },
    {
     "name": "stdout",
     "output_type": "stream",
     "text": [
      "(48, 128, 6)\n",
      "torch.Size([1, 128, 50304])\n"
     ]
    },
    {
     "name": "stderr",
     "output_type": "stream",
     "text": [
      "  0%|          | 49/21990 [04:24<32:47:41,  5.38s/it]"
     ]
    },
    {
     "name": "stdout",
     "output_type": "stream",
     "text": [
      "(49, 128, 6)\n",
      "torch.Size([1, 128, 50304])\n"
     ]
    },
    {
     "name": "stderr",
     "output_type": "stream",
     "text": [
      "  0%|          | 50/21990 [04:30<32:49:41,  5.39s/it]"
     ]
    },
    {
     "name": "stdout",
     "output_type": "stream",
     "text": [
      "(50, 128, 6)\n",
      "torch.Size([1, 128, 50304])\n"
     ]
    },
    {
     "name": "stderr",
     "output_type": "stream",
     "text": [
      "  0%|          | 50/21990 [04:35<33:34:40,  5.51s/it]"
     ]
    },
    {
     "name": "stdout",
     "output_type": "stream",
     "text": [
      "(51, 128, 6)\n"
     ]
    },
    {
     "name": "stderr",
     "output_type": "stream",
     "text": [
      "\n"
     ]
    },
    {
     "data": {
      "text/plain": [
       "<function matplotlib.pyplot.close(fig: \"None | int | str | Figure | Literal['all']\" = None) -> 'None'>"
      ]
     },
     "execution_count": 10,
     "metadata": {},
     "output_type": "execute_result"
    },
    {
     "data": {
      "image/png": "[encoded data removed]",
      "text/plain": [
       "<Figure size 1500x600 with 2 Axes>"
      ]
     },
     "metadata": {},
     "output_type": "display_data"
    },
    {
     "ename": "",
     "evalue": "",
     "output_type": "error",
     "traceback": [
      "\u001b[1;31mThe Kernel crashed while executing code in the current cell or a previous cell. \n",
      "\u001b[1;31mPlease review the code in the cell(s) to identify a possible cause of the failure. \n",
      "\u001b[1;31mClick <a href='https://aka.ms/vscodeJupyterKernelCrash'>here</a> for more info. \n",
      "\u001b[1;31mView Jupyter <a href='command:jupyter.viewOutput'>log</a> for further details."
     ]
    }
   ],
   "source": [
    "import torch\n",
    "import numpy as np\n",
    "import matplotlib.pyplot as plt\n",
    "import seaborn as sns\n",
    "from transformers import AutoModelForCausalLM, AutoTokenizer\n",
    "from imports import *\n",
    "from dataset import *\n",
    "\n",
    "# Load the Pythia model and tokenizer\n",
    "model = AutoModelForCausalLM.from_pretrained('EleutherAI/pythia-70m')\n",
    "tokenizer = AutoTokenizer.from_pretrained('EleutherAI/pythia-70m')\n",
    "tokenizer.pad_token = tokenizer.eos_token\n",
    "\n",
    "train_data, val_data = inspect_data(data)\n",
    "\n",
    "# Sample input\n",
    "input_text = 'One day, a little girl named Lily found a needle in her room. She knew it was difficult to play with it because it was sharp. Lily wanted to share the needle with her mom, so she could sew a button on her shirt. Lily went to her mom and said, \"Mom, I found this needle. Can you share it with me and sew my shirt?\" Her mom smiled and said, \"Yes, Lily, we can share the needle and fix your shirt.\" Together, they shared the needle and sewed the button on Lilys shirt. It was not difficult for them because they were sharing and helping each other. After they finished, Lily thanked her mom for sharing the needle and fixing her shirt. They both felt happy because they had shared and worked together.'\n",
    "# inputs = tokenizer(input_text, return_tensors=\"pt\")\n",
    "\n",
    "\n",
    "# Define a list to store gradients per token\n",
    "\n",
    "\n",
    "# Ensure the model is in evaluation mode\n",
    "# model.eval()\n",
    "\n",
    "final_data = []\n",
    "\n",
    "\n",
    "for index, data in enumerate(tqdm(val_data[\"text\"])):\n",
    "    \n",
    "    token_gradients = []\n",
    "    \n",
    "    inputs = tokenizer(data, return_tensors=\"pt\", padding='max_length', max_length=128, truncation=True)\n",
    "\n",
    "    # Get the outputs and compute loss\n",
    "    outputs = model(**inputs)\n",
    "    logits = outputs.logits\n",
    "    loss = logits.sum()  # Example loss\n",
    "\n",
    "    print(logits.shape)\n",
    "\n",
    "    # Iterate over each token\n",
    "    for token_idx in range(inputs[\"input_ids\"].shape[1]):  # Loop over the sequence length (tokens)\n",
    "        model.zero_grad()  # Clear any previous gradients\n",
    "        \n",
    "        # Compute loss only for this specific token's contribution\n",
    "        # Modify this if needed to focus on the exact component of the loss related to the token\n",
    "        token_loss = logits[0, token_idx, :].sum()\n",
    "        \n",
    "        # Perform backward pass\n",
    "        token_loss.backward(retain_graph=True)  # retain_graph=True allows subsequent backward passes\n",
    "        \n",
    "        # Collect the gradient of the specific parameter for this token\n",
    "        gradients = []\n",
    "        for i in range(6):\n",
    "            layer = model.gpt_neox.layers[i].attention.dense  # Access the specific layer/parameter (adapted to Pythia)\n",
    "            param_grad = layer.weight.grad.clone().view(-1)  # Clone and reshape the gradient\n",
    "            gradients.append(param_grad.unsqueeze(0))  # Append the gradient for this token\n",
    "\n",
    "        # Convert gradients to a tensor and add to the list\n",
    "        token_gradients.append(torch.cat(gradients, dim=0))  # Shape: (layer_count, output_dim)\n",
    "\n",
    "    # Convert token gradients to a tensor for visualization\n",
    "    token_gradients_tensor = torch.stack(token_gradients)  # Shape: (seq_len, layer_count, output_dim)\n",
    "\n",
    "    # Compute the average gradient norm across layers for visualization\n",
    "    average_gradients_tensor = torch.log(token_gradients_tensor.norm(dim=2))  # Shape: (seq_len, layer_count)\n",
    "\n",
    "    final_data.append(average_gradients_tensor)\n",
    "\n",
    "    print(np.array(final_data).shape)\n",
    "\n",
    "    if index == 50:\n",
    "        break\n",
    "\n",
    "\n",
    "# Visualize the gradients using a heatmap\n",
    "plt.figure(figsize=(15, 6))\n",
    "sns.heatmap(np.mean(np.array(final_data), axis = 0).T, cmap='viridis', cbar=True, yticklabels=range(6), xticklabels=range(average_gradients_tensor.size(0)))\n",
    "plt.xlabel('Token Index')\n",
    "plt.ylabel('Layer Index')\n",
    "plt.title('Token-wise Gradient Norms Across Layers for attention.dense on log scale')\n",
    "plt.savefig(\"Pythia_Attention_Grad_50_samples.png\")\n",
    "plt.close"
   ]
  },
  {
   "cell_type": "code",
   "execution_count": null,
   "metadata": {},
   "outputs": [],
   "source": []
  }
 ],
 "metadata": {
  "kernelspec": {
   "display_name": "transit",
   "language": "python",
   "name": "python3"
  },
  "language_info": {
   "codemirror_mode": {
    "name": "ipython",
    "version": 3
   },
   "file_extension": ".py",
   "mimetype": "text/x-python",
   "name": "python",
   "nbconvert_exporter": "python",
   "pygments_lexer": "ipython3",
   "version": "3.11.9"
  }
 },
 "nbformat": 4,
 "nbformat_minor": 2
}
